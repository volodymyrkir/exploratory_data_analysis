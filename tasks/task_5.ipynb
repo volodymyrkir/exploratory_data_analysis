{
 "cells": [
  {
   "cell_type": "code",
   "execution_count": 1,
   "metadata": {
    "ExecuteTime": {
     "end_time": "2023-12-01T14:22:54.079991213Z",
     "start_time": "2023-12-01T14:22:54.031627064Z"
    }
   },
   "outputs": [],
   "source": [
    "import numpy as np\n",
    "import pandas as pd\n",
    "import matplotlib.pyplot as plt\n",
    "\n",
    "from setup import get_task_data\n",
    "import yfinance as yf\n",
    "\n",
    "from scipy.optimize import minimize\n",
    "\n",
    "import random\n",
    "SEED_VALUE = 42\n",
    "\n",
    "random.seed(SEED_VALUE)\n",
    "np.random.seed(SEED_VALUE)"
   ]
  },
  {
   "cell_type": "code",
   "execution_count": 2,
   "metadata": {
    "ExecuteTime": {
     "end_time": "2023-12-01T14:22:55.970385016Z",
     "start_time": "2023-12-01T14:22:54.079832999Z"
    }
   },
   "outputs": [
    {
     "name": "stdout",
     "output_type": "stream",
     "text": [
      "[*********************100%%**********************]  20 of 20 completed\n"
     ]
    }
   ],
   "source": [
    "financial_data = {}\n",
    "\n",
    "# Stocks have different IPO date (first trade) so only last ~3 years of data used\n",
    "HISTORY_SIZE = 1000\n",
    "TARGET_STOCKS_COUNT = 20\n",
    "INITIAL_FUND = 10000\n",
    "\n",
    "stocks_df = pd.read_csv(get_task_data(\"StocksList.csv\"))\n",
    "\n",
    "stocks_list = stocks_df['Symbol'].astype(str).to_list()\n",
    "stocks_list = list(map(lambda s: s.replace('^', '-'), stocks_list))\n",
    "random.shuffle(stocks_list)\n",
    "\n",
    "stocks_list = stocks_list[:TARGET_STOCKS_COUNT]\n",
    "\n",
    "tickers = stocks_list\n",
    "tickers_df = yf.download(tickers, period='5y')"
   ]
  },
  {
   "cell_type": "code",
   "execution_count": 3,
   "metadata": {
    "ExecuteTime": {
     "end_time": "2023-12-01T14:22:55.970816540Z",
     "start_time": "2023-12-01T14:22:55.938228668Z"
    }
   },
   "outputs": [],
   "source": [
    "tickers_df = tickers_df.iloc[-HISTORY_SIZE:]"
   ]
  },
  {
   "cell_type": "code",
   "execution_count": 4,
   "metadata": {
    "ExecuteTime": {
     "end_time": "2023-12-01T14:22:55.988828774Z",
     "start_time": "2023-12-01T14:22:55.983606738Z"
    }
   },
   "outputs": [],
   "source": [
    "columns = ['Open', 'High', 'Low', 'Close', 'Adj Close', 'Volume']\n",
    "\n",
    "def extract_history(tickers_df, stock):\n",
    "    multiindex = pd.MultiIndex.from_product([columns, [stock]])\n",
    "    stock_df = tickers_df[multiindex]\n",
    "\n",
    "    stock_df.columns = stock_df.columns.to_flat_index()\n",
    "    stock_df = stock_df.set_axis(columns, axis=1)\n",
    "    stock_df = stock_df.dropna()\n",
    "    return stock_df"
   ]
  },
  {
   "cell_type": "code",
   "execution_count": 5,
   "metadata": {
    "ExecuteTime": {
     "end_time": "2023-12-01T14:22:56.031366775Z",
     "start_time": "2023-12-01T14:22:55.984100044Z"
    }
   },
   "outputs": [
    {
     "name": "stdout",
     "output_type": "stream",
     "text": [
      "Too short history: 1\n",
      "Too short history: 742\n",
      "Too short history: 869\n",
      "Too short history: 516\n",
      "Too short history: 676\n",
      "Too short history: 874\n",
      "Too short history: 874\n"
     ]
    }
   ],
   "source": [
    "for stock in stocks_list:    \n",
    "    history = extract_history(tickers_df, stock)\n",
    "    \n",
    "    if len(history) < HISTORY_SIZE:\n",
    "        print(f\"Too short history: {len(history)}\")\n",
    "        continue\n",
    "    \n",
    "    financial_data[stock] = history.reset_index()[['Date', 'Close']].rename(columns={\"Close\": stock})"
   ]
  },
  {
   "cell_type": "code",
   "execution_count": 6,
   "metadata": {
    "ExecuteTime": {
     "end_time": "2023-12-01T14:22:56.032226402Z",
     "start_time": "2023-12-01T14:22:56.027713577Z"
    }
   },
   "outputs": [
    {
     "data": {
      "text/plain": "13"
     },
     "execution_count": 6,
     "metadata": {},
     "output_type": "execute_result"
    }
   ],
   "source": [
    "len(financial_data)"
   ]
  },
  {
   "cell_type": "code",
   "execution_count": 7,
   "metadata": {
    "ExecuteTime": {
     "end_time": "2023-12-01T14:22:56.032507662Z",
     "start_time": "2023-12-01T14:22:56.028040768Z"
    }
   },
   "outputs": [],
   "source": [
    "TRAIN_HISTORY = 800\n",
    "TEST_HISTORY = 200"
   ]
  },
  {
   "cell_type": "markdown",
   "metadata": {},
   "source": [
    "### 1 - Mean variance models, Efficient frontier "
   ]
  },
  {
   "cell_type": "code",
   "execution_count": 8,
   "metadata": {
    "ExecuteTime": {
     "end_time": "2023-12-01T14:22:56.086192856Z",
     "start_time": "2023-12-01T14:22:56.075599953Z"
    }
   },
   "outputs": [],
   "source": [
    "def mean_historical_return(stock_prices):\n",
    "    return stock_prices.pct_change().mean()\n",
    "\n",
    "def covariance(stock_prices):\n",
    "    return stock_prices.pct_change().cov()\n",
    "\n",
    "def portfolio_performance(weights, mean_returns, cov_matrix, duration):\n",
    "    returns = np.sum(mean_returns * weights) * duration\n",
    "    std = np.sqrt(np.dot(weights.T, np.dot(cov_matrix, weights)) * duration)\n",
    "    return returns, std"
   ]
  },
  {
   "cell_type": "code",
   "execution_count": 9,
   "metadata": {
    "ExecuteTime": {
     "end_time": "2023-12-01T14:22:56.086502730Z",
     "start_time": "2023-12-01T14:22:56.075874839Z"
    }
   },
   "outputs": [],
   "source": [
    "def combine_stocks(stocks):\n",
    "    df_merged = stocks[0][1]\n",
    "\n",
    "    for (name, stock) in stocks[1:]:\n",
    "        df_merged = pd.merge(df_merged,stock,on=['Date'], how='outer', suffixes=('', f'_{name}'))\n",
    "\n",
    "    df_merged = df_merged.set_index('Date')\n",
    "    return df_merged"
   ]
  },
  {
   "cell_type": "code",
   "execution_count": 10,
   "metadata": {
    "ExecuteTime": {
     "end_time": "2023-12-01T14:22:56.086857679Z",
     "start_time": "2023-12-01T14:22:56.076036787Z"
    }
   },
   "outputs": [
    {
     "data": {
      "text/plain": "Index(['BPT', 'DAC', 'COP', 'STOK', 'COFS', 'VYX', 'HXL', 'CHT', 'FTNT',\n       'LRCX', 'EVM', 'METC', 'DZSI'],\n      dtype='object')"
     },
     "execution_count": 10,
     "metadata": {},
     "output_type": "execute_result"
    }
   ],
   "source": [
    "portfolio = combine_stocks(list(financial_data.items()))\n",
    "portfolio.columns"
   ]
  },
  {
   "cell_type": "code",
   "execution_count": 11,
   "metadata": {
    "ExecuteTime": {
     "end_time": "2023-12-01T14:22:56.086998286Z",
     "start_time": "2023-12-01T14:22:56.076184094Z"
    }
   },
   "outputs": [],
   "source": [
    "mean_returns = mean_historical_return(portfolio[:TRAIN_HISTORY])\n",
    "cov_matrix = covariance(portfolio[:TRAIN_HISTORY])"
   ]
  },
  {
   "cell_type": "code",
   "execution_count": 12,
   "metadata": {
    "ExecuteTime": {
     "end_time": "2023-12-01T14:22:56.087537681Z",
     "start_time": "2023-12-01T14:22:56.076310821Z"
    }
   },
   "outputs": [],
   "source": [
    "def sharpe(weights, mean_returns, cov_matrix, risk_free = 0):\n",
    "    returns, std = portfolio_performance(weights, mean_returns, cov_matrix, TRAIN_HISTORY)\n",
    "    return (returns - risk_free) / std\n",
    "\n",
    "def neg_sharpe(weights, mean_returns, cov_matrix, risk_free = 0):\n",
    "    return -sharpe(weights, mean_returns, cov_matrix, risk_free)\n",
    "\n",
    "def max_sharpe(mean_returns, cov_matrix, risk_free = 0, constraint_set=(0,1)):\n",
    "    num_assets = len(mean_returns)\n",
    "    \n",
    "    args = (mean_returns, cov_matrix, risk_free)\n",
    "    constraints = ({'type': 'eq', 'fun': lambda x: np.sum(x) - 1})\n",
    "    \n",
    "    bound = constraint_set\n",
    "    bounds = tuple(bound for _ in range(num_assets))\n",
    "    \n",
    "    result = minimize(neg_sharpe, num_assets*[1./num_assets], args=args,\n",
    "                        method='SLSQP', bounds=bounds, constraints=constraints)\n",
    "    return result"
   ]
  },
  {
   "cell_type": "code",
   "execution_count": 13,
   "metadata": {
    "ExecuteTime": {
     "end_time": "2023-12-01T14:22:56.134222109Z",
     "start_time": "2023-12-01T14:22:56.119729183Z"
    }
   },
   "outputs": [],
   "source": [
    "def portfolio_variance(weights, mean_returns, cov_matrix):\n",
    "    return portfolio_performance(weights, mean_returns, cov_matrix, TRAIN_HISTORY)[1]\n",
    "\n",
    "def minimize_variance(mean_returns, cov_matrix, constraint_set=(0,1)):\n",
    "    num_assets = len(mean_returns)\n",
    "    \n",
    "    args = (mean_returns, cov_matrix)\n",
    "    constraints = ({'type': 'eq', 'fun': lambda x: np.sum(x) - 1})\n",
    "    \n",
    "    bound = constraint_set\n",
    "    bounds = tuple(bound for _ in range(num_assets))\n",
    "    \n",
    "    result = minimize(portfolio_variance, num_assets*[1./num_assets], args=args,\n",
    "                        method='SLSQP', bounds=bounds, constraints=constraints)\n",
    "    return result"
   ]
  },
  {
   "cell_type": "code",
   "execution_count": 14,
   "metadata": {
    "ExecuteTime": {
     "end_time": "2023-12-01T14:22:56.134700216Z",
     "start_time": "2023-12-01T14:22:56.120461601Z"
    }
   },
   "outputs": [],
   "source": [
    "def portfolio_return(weights, mean_returns, cov_matrix):\n",
    "    return portfolio_performance(weights, mean_returns, cov_matrix, TRAIN_HISTORY)[0]\n",
    "\n",
    "def efficient_portfolio(mean_returns, cov_matrix, return_target, constraint_set=(0,1)):\n",
    "    num_assets = len(mean_returns)\n",
    "    \n",
    "    args = (mean_returns, cov_matrix)\n",
    "    constraints = ({'type':'eq', 'fun': lambda x: portfolio_return(x, mean_returns, cov_matrix) - return_target},\n",
    "                    {'type': 'eq', 'fun': lambda x: np.sum(x) - 1})\n",
    "    \n",
    "    bound = constraint_set\n",
    "    bounds = tuple(bound for _ in range(num_assets))\n",
    "    \n",
    "    eff = minimize(portfolio_variance, num_assets*[1./num_assets], args=args, method = 'SLSQP', bounds=bounds, constraints=constraints)\n",
    "    return eff"
   ]
  },
  {
   "cell_type": "code",
   "execution_count": 15,
   "metadata": {
    "ExecuteTime": {
     "end_time": "2023-12-01T14:22:56.135019541Z",
     "start_time": "2023-12-01T14:22:56.120708544Z"
    }
   },
   "outputs": [],
   "source": [
    "def efficient_frontier(mean_returns, cov_matrix, risk_free=0, constraint_set=(0,1)):\n",
    "    max_sharpe_portfolio = max_sharpe(mean_returns, cov_matrix, risk_free, constraint_set).x\n",
    "    ms_returns = portfolio_performance(max_sharpe_portfolio, mean_returns, cov_matrix, TRAIN_HISTORY)\n",
    "\n",
    "    minimize_variance_portfolio = minimize_variance(mean_returns, cov_matrix, constraint_set).x\n",
    "    mv_returns = portfolio_performance(minimize_variance_portfolio, mean_returns, cov_matrix)\n",
    "\n",
    "    efficient_list = []\n",
    "    target_returns = np.linspace(mv_returns, ms_returns, 20)\n",
    "    for target in target_returns:\n",
    "        efficient_list.append(efficient_portfolio(mean_returns, cov_matrix, target, constraint_set)['fun'])\n",
    "    \n",
    "    return efficient_list"
   ]
  },
  {
   "cell_type": "code",
   "execution_count": 16,
   "metadata": {
    "ExecuteTime": {
     "end_time": "2023-12-01T14:22:56.135177470Z",
     "start_time": "2023-12-01T14:22:56.120949983Z"
    }
   },
   "outputs": [],
   "source": [
    "def build_portfolio(initial_fund, weights):\n",
    "    prices = portfolio.iloc[TRAIN_HISTORY].to_numpy()\n",
    "    return ((initial_fund * weights) / prices).astype('int32')"
   ]
  },
  {
   "cell_type": "code",
   "execution_count": 17,
   "metadata": {
    "ExecuteTime": {
     "end_time": "2023-12-01T14:22:56.135482045Z",
     "start_time": "2023-12-01T14:22:56.121114390Z"
    }
   },
   "outputs": [],
   "source": [
    "mean_var_weights = max_sharpe(mean_returns, cov_matrix).x"
   ]
  },
  {
   "cell_type": "code",
   "execution_count": 18,
   "metadata": {
    "ExecuteTime": {
     "end_time": "2023-12-01T14:22:56.182090825Z",
     "start_time": "2023-12-01T14:22:56.134959194Z"
    }
   },
   "outputs": [],
   "source": [
    "mean_var_portfolio = build_portfolio(INITIAL_FUND, mean_var_weights)"
   ]
  },
  {
   "cell_type": "code",
   "execution_count": 43,
   "metadata": {
    "ExecuteTime": {
     "end_time": "2023-12-01T14:30:44.136284527Z",
     "start_time": "2023-12-01T14:30:44.126985703Z"
    }
   },
   "outputs": [
    {
     "data": {
      "text/plain": "             BPT        DAC         COP   STOK       COFS        VYX  \\\nDate                                                                   \n2019-12-11  6.67   8.440000   61.680000  23.17  32.500000  20.006136   \n2019-12-12  6.75   8.640000   62.590000  23.82  32.250000  20.496933   \n2019-12-13  6.56   8.560000   62.700001  24.16  32.250000  20.895706   \n2019-12-16  6.39   8.790000   62.820000  24.98  32.070000  20.993864   \n2019-12-17  6.77   8.590000   63.520000  26.77  32.500000  20.993864   \n...          ...        ...         ...    ...        ...        ...   \n2023-11-24  3.58  69.349998  115.489998   4.02  25.170000  16.190001   \n2023-11-27  3.35  69.459999  114.800003   4.04  24.580000  16.100000   \n2023-11-28  3.44  69.320000  114.980003   4.05  24.719999  16.090000   \n2023-11-29  3.44  68.699997  113.970001   3.85  25.299999  15.700000   \n2023-11-30  3.53  70.360001  115.570000   3.79  25.010000  15.680000   \n\n                  HXL        CHT       FTNT        LRCX    EVM       METC  \\\nDate                                                                        \n2019-12-11  78.750000  36.790001  20.827999  275.399994  11.25   3.490000   \n2019-12-12  77.529999  37.060001  20.879999  284.700012  11.21   3.540000   \n2019-12-13  77.320000  37.220001  21.128000  281.950012  11.21   3.430000   \n2019-12-16  76.730003  36.730000  21.448000  284.250000  11.18   3.260000   \n2019-12-17  74.489998  36.669998  21.270000  290.570007  11.15   3.100000   \n...               ...        ...        ...         ...    ...        ...   \n2023-11-24  67.739998  37.549999  53.430000  717.500000   8.72  17.110001   \n2023-11-27  67.639999  37.970001  53.740002  722.450012   8.67  17.410000   \n2023-11-28  67.900002  37.939999  52.790001  710.390015   8.69  16.940001   \n2023-11-29  67.720001  38.090000  53.599998  713.989990   8.80  16.540001   \n2023-11-30  69.309998  37.939999  52.560001  715.919983   8.81  16.700001   \n\n            DZSI  \nDate              \n2019-12-11  7.74  \n2019-12-12  7.85  \n2019-12-13  8.04  \n2019-12-16  8.31  \n2019-12-17  8.79  \n...          ...  \n2023-11-24  1.42  \n2023-11-27  1.48  \n2023-11-28  1.51  \n2023-11-29  1.56  \n2023-11-30  1.61  \n\n[1000 rows x 13 columns]",
      "text/html": "<div>\n<style scoped>\n    .dataframe tbody tr th:only-of-type {\n        vertical-align: middle;\n    }\n\n    .dataframe tbody tr th {\n        vertical-align: top;\n    }\n\n    .dataframe thead th {\n        text-align: right;\n    }\n</style>\n<table border=\"1\" class=\"dataframe\">\n  <thead>\n    <tr style=\"text-align: right;\">\n      <th></th>\n      <th>BPT</th>\n      <th>DAC</th>\n      <th>COP</th>\n      <th>STOK</th>\n      <th>COFS</th>\n      <th>VYX</th>\n      <th>HXL</th>\n      <th>CHT</th>\n      <th>FTNT</th>\n      <th>LRCX</th>\n      <th>EVM</th>\n      <th>METC</th>\n      <th>DZSI</th>\n    </tr>\n    <tr>\n      <th>Date</th>\n      <th></th>\n      <th></th>\n      <th></th>\n      <th></th>\n      <th></th>\n      <th></th>\n      <th></th>\n      <th></th>\n      <th></th>\n      <th></th>\n      <th></th>\n      <th></th>\n      <th></th>\n    </tr>\n  </thead>\n  <tbody>\n    <tr>\n      <th>2019-12-11</th>\n      <td>6.67</td>\n      <td>8.440000</td>\n      <td>61.680000</td>\n      <td>23.17</td>\n      <td>32.500000</td>\n      <td>20.006136</td>\n      <td>78.750000</td>\n      <td>36.790001</td>\n      <td>20.827999</td>\n      <td>275.399994</td>\n      <td>11.25</td>\n      <td>3.490000</td>\n      <td>7.74</td>\n    </tr>\n    <tr>\n      <th>2019-12-12</th>\n      <td>6.75</td>\n      <td>8.640000</td>\n      <td>62.590000</td>\n      <td>23.82</td>\n      <td>32.250000</td>\n      <td>20.496933</td>\n      <td>77.529999</td>\n      <td>37.060001</td>\n      <td>20.879999</td>\n      <td>284.700012</td>\n      <td>11.21</td>\n      <td>3.540000</td>\n      <td>7.85</td>\n    </tr>\n    <tr>\n      <th>2019-12-13</th>\n      <td>6.56</td>\n      <td>8.560000</td>\n      <td>62.700001</td>\n      <td>24.16</td>\n      <td>32.250000</td>\n      <td>20.895706</td>\n      <td>77.320000</td>\n      <td>37.220001</td>\n      <td>21.128000</td>\n      <td>281.950012</td>\n      <td>11.21</td>\n      <td>3.430000</td>\n      <td>8.04</td>\n    </tr>\n    <tr>\n      <th>2019-12-16</th>\n      <td>6.39</td>\n      <td>8.790000</td>\n      <td>62.820000</td>\n      <td>24.98</td>\n      <td>32.070000</td>\n      <td>20.993864</td>\n      <td>76.730003</td>\n      <td>36.730000</td>\n      <td>21.448000</td>\n      <td>284.250000</td>\n      <td>11.18</td>\n      <td>3.260000</td>\n      <td>8.31</td>\n    </tr>\n    <tr>\n      <th>2019-12-17</th>\n      <td>6.77</td>\n      <td>8.590000</td>\n      <td>63.520000</td>\n      <td>26.77</td>\n      <td>32.500000</td>\n      <td>20.993864</td>\n      <td>74.489998</td>\n      <td>36.669998</td>\n      <td>21.270000</td>\n      <td>290.570007</td>\n      <td>11.15</td>\n      <td>3.100000</td>\n      <td>8.79</td>\n    </tr>\n    <tr>\n      <th>...</th>\n      <td>...</td>\n      <td>...</td>\n      <td>...</td>\n      <td>...</td>\n      <td>...</td>\n      <td>...</td>\n      <td>...</td>\n      <td>...</td>\n      <td>...</td>\n      <td>...</td>\n      <td>...</td>\n      <td>...</td>\n      <td>...</td>\n    </tr>\n    <tr>\n      <th>2023-11-24</th>\n      <td>3.58</td>\n      <td>69.349998</td>\n      <td>115.489998</td>\n      <td>4.02</td>\n      <td>25.170000</td>\n      <td>16.190001</td>\n      <td>67.739998</td>\n      <td>37.549999</td>\n      <td>53.430000</td>\n      <td>717.500000</td>\n      <td>8.72</td>\n      <td>17.110001</td>\n      <td>1.42</td>\n    </tr>\n    <tr>\n      <th>2023-11-27</th>\n      <td>3.35</td>\n      <td>69.459999</td>\n      <td>114.800003</td>\n      <td>4.04</td>\n      <td>24.580000</td>\n      <td>16.100000</td>\n      <td>67.639999</td>\n      <td>37.970001</td>\n      <td>53.740002</td>\n      <td>722.450012</td>\n      <td>8.67</td>\n      <td>17.410000</td>\n      <td>1.48</td>\n    </tr>\n    <tr>\n      <th>2023-11-28</th>\n      <td>3.44</td>\n      <td>69.320000</td>\n      <td>114.980003</td>\n      <td>4.05</td>\n      <td>24.719999</td>\n      <td>16.090000</td>\n      <td>67.900002</td>\n      <td>37.939999</td>\n      <td>52.790001</td>\n      <td>710.390015</td>\n      <td>8.69</td>\n      <td>16.940001</td>\n      <td>1.51</td>\n    </tr>\n    <tr>\n      <th>2023-11-29</th>\n      <td>3.44</td>\n      <td>68.699997</td>\n      <td>113.970001</td>\n      <td>3.85</td>\n      <td>25.299999</td>\n      <td>15.700000</td>\n      <td>67.720001</td>\n      <td>38.090000</td>\n      <td>53.599998</td>\n      <td>713.989990</td>\n      <td>8.80</td>\n      <td>16.540001</td>\n      <td>1.56</td>\n    </tr>\n    <tr>\n      <th>2023-11-30</th>\n      <td>3.53</td>\n      <td>70.360001</td>\n      <td>115.570000</td>\n      <td>3.79</td>\n      <td>25.010000</td>\n      <td>15.680000</td>\n      <td>69.309998</td>\n      <td>37.939999</td>\n      <td>52.560001</td>\n      <td>715.919983</td>\n      <td>8.81</td>\n      <td>16.700001</td>\n      <td>1.61</td>\n    </tr>\n  </tbody>\n</table>\n<p>1000 rows × 13 columns</p>\n</div>"
     },
     "execution_count": 43,
     "metadata": {},
     "output_type": "execute_result"
    }
   ],
   "source": [
    "portfolio"
   ]
  },
  {
   "cell_type": "code",
   "execution_count": 46,
   "outputs": [
    {
     "name": "stdout",
     "output_type": "stream",
     "text": [
      "Recommended investment in BPT is 79 shares.\n",
      "Recommended investment in DAC is 66 shares.\n",
      "Recommended investment in COP is 0 shares.\n",
      "Recommended investment in STOK is 0 shares.\n",
      "Recommended investment in COFS is 0 shares.\n",
      "Recommended investment in VYX is 0 shares.\n",
      "Recommended investment in HXL is 0 shares.\n",
      "Recommended investment in CHT is 0 shares.\n",
      "Recommended investment in FTNT is 58 shares.\n",
      "Recommended investment in LRCX is 0 shares.\n",
      "Recommended investment in EVM is 0 shares.\n",
      "Recommended investment in METC is 144 shares.\n",
      "Recommended investment in DZSI is 7 shares.\n"
     ]
    }
   ],
   "source": [
    "def print_weights(portfolio, companies):\n",
    "    for index, value in enumerate(portfolio):\n",
    "        print(f'Recommended investment in {companies[index]} is {value} shares.')\n",
    "        \n",
    "print_weights(mean_var_portfolio, portfolio.columns)"
   ],
   "metadata": {
    "collapsed": false,
    "ExecuteTime": {
     "end_time": "2023-12-01T14:37:32.402512350Z",
     "start_time": "2023-12-01T14:37:32.357136879Z"
    }
   }
  },
  {
   "cell_type": "code",
   "execution_count": 20,
   "metadata": {
    "ExecuteTime": {
     "end_time": "2023-12-01T14:22:56.182839108Z",
     "start_time": "2023-12-01T14:22:56.179998861Z"
    }
   },
   "outputs": [],
   "source": [
    "def test_portfolio(stocks, weights):\n",
    "    old_prices = portfolio.iloc[TRAIN_HISTORY].to_numpy()\n",
    "    portfolio_initial_value = np.sum(stocks * old_prices)\n",
    "\n",
    "    prices = portfolio.iloc[-1].to_numpy()\n",
    "    portfolio_end_value = np.sum(stocks * prices)\n",
    "\n",
    "    # ratio\n",
    "    print(f'Initial: {portfolio_initial_value} End: {portfolio_end_value} Ratio: {portfolio_end_value / portfolio_initial_value}')\n",
    "\n",
    "    # expected performance\n",
    "    expected = portfolio_performance(weights, mean_returns, cov_matrix, TRAIN_HISTORY)\n",
    "\n",
    "    mean_var_mean_returns = mean_historical_return(portfolio[TRAIN_HISTORY:])\n",
    "    mean_var_cov_matrix = covariance(portfolio[TRAIN_HISTORY:])\n",
    "    # actual performance\n",
    "    actual = portfolio_performance(weights, mean_var_mean_returns, mean_var_cov_matrix, TEST_HISTORY)\n",
    "\n",
    "    print(f'Expected: {expected}\\n Actual: {actual}')"
   ]
  },
  {
   "cell_type": "code",
   "execution_count": 21,
   "metadata": {
    "ExecuteTime": {
     "end_time": "2023-12-01T14:22:56.183098566Z",
     "start_time": "2023-12-01T14:22:56.180131855Z"
    }
   },
   "outputs": [
    {
     "name": "stdout",
     "output_type": "stream",
     "text": [
      "Initial: 9895.390154838562 End: 10387.180227637291 Ratio: 1.049698906774106\n",
      "Expected: (2.073078853452755, 0.7979369364429854)\n",
      " Actual: (0.05783781105559831, 0.23705866909585988)\n"
     ]
    }
   ],
   "source": [
    "test_portfolio(mean_var_portfolio, mean_var_weights)"
   ]
  },
  {
   "cell_type": "markdown",
   "source": [
    "### The portfolio shows a positive return, but the actual performance in the testing period is lower than the expected performance based on historical data. ( 0.6 returns actual vs 2.16 expected). This could be due to changes in market conditions or unforeseen events in the latest testing data."
   ],
   "metadata": {
    "collapsed": false
   }
  },
  {
   "cell_type": "markdown",
   "metadata": {},
   "source": [
    "### 2 - Risk parity models"
   ]
  },
  {
   "cell_type": "code",
   "execution_count": 22,
   "metadata": {
    "ExecuteTime": {
     "end_time": "2023-12-01T14:22:56.420064217Z",
     "start_time": "2023-12-01T14:22:56.180228811Z"
    }
   },
   "outputs": [],
   "source": [
    "from sklearn.cluster import AgglomerativeClustering"
   ]
  },
  {
   "cell_type": "code",
   "execution_count": 23,
   "metadata": {
    "ExecuteTime": {
     "end_time": "2023-12-01T14:22:56.420371280Z",
     "start_time": "2023-12-01T14:22:56.374795241Z"
    }
   },
   "outputs": [],
   "source": [
    "model = AgglomerativeClustering(distance_threshold=0, n_clusters=None)\n",
    "model = model.fit(portfolio.to_numpy().T)"
   ]
  },
  {
   "cell_type": "code",
   "execution_count": 24,
   "metadata": {
    "ExecuteTime": {
     "end_time": "2023-12-01T14:22:56.420541866Z",
     "start_time": "2023-12-01T14:22:56.419875039Z"
    }
   },
   "outputs": [],
   "source": [
    "from scipy.cluster.hierarchy import dendrogram"
   ]
  },
  {
   "cell_type": "code",
   "execution_count": 25,
   "metadata": {
    "ExecuteTime": {
     "end_time": "2023-12-01T14:22:56.422556637Z",
     "start_time": "2023-12-01T14:22:56.420017733Z"
    }
   },
   "outputs": [],
   "source": [
    "def plot_dendrogram(model, **kwargs):\n",
    "    # Create linkage matrix and then plot the dendrogram\n",
    "\n",
    "    # create the counts of samples under each node\n",
    "    counts = np.zeros(model.children_.shape[0])\n",
    "    n_samples = len(model.labels_)\n",
    "    for i, merge in enumerate(model.children_):\n",
    "        current_count = 0\n",
    "        for child_idx in merge:\n",
    "            if child_idx < n_samples:\n",
    "                current_count += 1  # leaf node\n",
    "            else:\n",
    "                current_count += counts[child_idx - n_samples]\n",
    "        counts[i] = current_count\n",
    "\n",
    "    linkage_matrix = np.column_stack(\n",
    "        [model.children_, np.log(model.distances_), counts]\n",
    "    ).astype(float)\n",
    "\n",
    "    # Plot the corresponding dendrogram\n",
    "    plt.figure(figsize=(12, 6))\n",
    "    dendrogram(linkage_matrix, **kwargs)"
   ]
  },
  {
   "cell_type": "code",
   "execution_count": 26,
   "metadata": {
    "ExecuteTime": {
     "end_time": "2023-12-01T14:22:56.666248144Z",
     "start_time": "2023-12-01T14:22:56.420250051Z"
    }
   },
   "outputs": [
    {
     "data": {
      "text/plain": "<Figure size 1200x600 with 1 Axes>",
      "image/png": "[encoded data removed]"
     },
     "metadata": {},
     "output_type": "display_data"
    }
   ],
   "source": [
    "plot_dendrogram(model)"
   ]
  },
  {
   "cell_type": "code",
   "execution_count": 27,
   "metadata": {
    "ExecuteTime": {
     "end_time": "2023-12-01T14:22:56.666738071Z",
     "start_time": "2023-12-01T14:22:56.611654246Z"
    }
   },
   "outputs": [],
   "source": [
    "def hierarchical_risk_parity(portfolio):\n",
    "    portfolio_arr = portfolio.to_numpy().T\n",
    "\n",
    "    model = AgglomerativeClustering(distance_threshold=0, n_clusters=None)\n",
    "    model = model.fit(portfolio_arr)\n",
    "    samples_count = len(portfolio.columns)\n",
    "\n",
    "    subsets = {}\n",
    "    weights = {}\n",
    "    \n",
    "    bisections = model.children_.tolist()\n",
    "    clusters_count = len(bisections) + samples_count - 1\n",
    "\n",
    "    def get_subset(index):\n",
    "        if index < samples_count:\n",
    "            return [index]\n",
    "        else:\n",
    "            return subsets[index]\n",
    "\n",
    "    for i in range(len(bisections)):\n",
    "        bisection = bisections[i]\n",
    "        new_index = samples_count + i\n",
    "\n",
    "        subsets[new_index] = get_subset(bisection[0]) + get_subset(bisection[1])\n",
    "\n",
    "    bisections.reverse()\n",
    "    weights[clusters_count] = 1 \n",
    "\n",
    "    for i in range(len(bisections)):\n",
    "        bisection = bisections[i]\n",
    "        weight = weights[clusters_count - i]\n",
    "\n",
    "        v1 = np.var(portfolio_arr[get_subset(bisection[0])])\n",
    "        v2 = np.var(portfolio_arr[get_subset(bisection[1])])\n",
    "\n",
    "        a1 = 1 - v1 / (v1 + v2)\n",
    "        a2 = 1 - a1\n",
    "\n",
    "        weights[bisection[0]] = a1 * weight\n",
    "        weights[bisection[1]] = a2 * weight\n",
    "    \n",
    "    return np.array(list(map(lambda n: weights[n], range(0, samples_count))))"
   ]
  },
  {
   "cell_type": "code",
   "execution_count": 28,
   "metadata": {
    "ExecuteTime": {
     "end_time": "2023-12-01T14:22:56.667204650Z",
     "start_time": "2023-12-01T14:22:56.611870081Z"
    }
   },
   "outputs": [
    {
     "data": {
      "text/plain": "array([0.11178502, 0.00488192, 0.03369707, 0.02118932, 0.09744714,\n       0.03754443, 0.00335354, 0.06813955, 0.01427346, 0.03886604,\n       0.40492215, 0.13184692, 0.03205344])"
     },
     "execution_count": 28,
     "metadata": {},
     "output_type": "execute_result"
    }
   ],
   "source": [
    "hrp_weights = hierarchical_risk_parity(portfolio)\n",
    "hrp_weights"
   ]
  },
  {
   "cell_type": "code",
   "execution_count": 29,
   "metadata": {
    "ExecuteTime": {
     "end_time": "2023-12-01T14:22:56.667506703Z",
     "start_time": "2023-12-01T14:22:56.611996528Z"
    }
   },
   "outputs": [
    {
     "data": {
      "text/plain": "array([ 99,   0,   3,  23,  34,  22,   0,  18,   2,   0, 444, 127,  25],\n      dtype=int32)"
     },
     "execution_count": 29,
     "metadata": {},
     "output_type": "execute_result"
    }
   ],
   "source": [
    "hrp_portfolio = build_portfolio(INITIAL_FUND, hrp_weights)\n",
    "hrp_portfolio"
   ]
  },
  {
   "cell_type": "code",
   "execution_count": 50,
   "outputs": [
    {
     "name": "stdout",
     "output_type": "stream",
     "text": [
      "Recommended investment in BPT is 99 shares.\n",
      "Recommended investment in DAC is 0 shares.\n",
      "Recommended investment in COP is 3 shares.\n",
      "Recommended investment in STOK is 23 shares.\n",
      "Recommended investment in COFS is 34 shares.\n",
      "Recommended investment in VYX is 22 shares.\n",
      "Recommended investment in HXL is 0 shares.\n",
      "Recommended investment in CHT is 18 shares.\n",
      "Recommended investment in FTNT is 2 shares.\n",
      "Recommended investment in LRCX is 0 shares.\n",
      "Recommended investment in EVM is 444 shares.\n",
      "Recommended investment in METC is 127 shares.\n",
      "Recommended investment in DZSI is 25 shares.\n"
     ]
    }
   ],
   "source": [
    "print_weights(hrp_portfolio, portfolio.columns)"
   ],
   "metadata": {
    "collapsed": false,
    "ExecuteTime": {
     "end_time": "2023-12-01T14:38:06.341843362Z",
     "start_time": "2023-12-01T14:38:06.336971902Z"
    }
   }
  },
  {
   "cell_type": "code",
   "execution_count": 30,
   "metadata": {
    "ExecuteTime": {
     "end_time": "2023-12-01T14:22:56.667766362Z",
     "start_time": "2023-12-01T14:22:56.612098364Z"
    }
   },
   "outputs": [
    {
     "name": "stdout",
     "output_type": "stream",
     "text": [
      "Initial: 9450.400980949402 End: 8839.480271458626 Ratio: 0.9353550488786347\n",
      "Expected: (0.5834302678681009, 0.4386831645428727)\n",
      " Actual: (-0.07580956709183449, 0.16412228951901237)\n"
     ]
    }
   ],
   "source": [
    "test_portfolio(hrp_portfolio, hrp_weights)"
   ]
  },
  {
   "cell_type": "markdown",
   "source": [
    "#### Based on Risk-Parity portfolio optimization technique, which is used to distribute weights across portfolio values to minimize the overall risk. We got decrease in portfolio value, having 0.57% returns as expected, but actually got -0.08. This may indicate that historical variance may not impact current raises and falls for specific businesses always, in respect to dynamic and unpredicted market changes, and that HRP approach performed worse for us."
   ],
   "metadata": {
    "collapsed": false
   }
  },
  {
   "cell_type": "markdown",
   "metadata": {},
   "source": [
    "### 3 - Monte-Carlo modelling"
   ]
  },
  {
   "cell_type": "code",
   "execution_count": 31,
   "metadata": {
    "ExecuteTime": {
     "end_time": "2023-12-01T14:22:56.667918065Z",
     "start_time": "2023-12-01T14:22:56.612181816Z"
    }
   },
   "outputs": [],
   "source": [
    "def max_sharpe_monte_carlo(mean_returns, cov_matrix, iterations, risk_free = 0):\n",
    "    num_assets = len(mean_returns)\n",
    "    \n",
    "    best_weights = None\n",
    "    best_sharpe = 0\n",
    "\n",
    "    for _ in range(iterations):\n",
    "        weights = np.array(np.random.random(num_assets))\n",
    "        # Rebalance Weights\n",
    "        weights = weights / np.sum(weights)\n",
    "    \n",
    "        sharpe_index = sharpe(weights, mean_returns, cov_matrix, risk_free)\n",
    "        if best_weights is None or best_sharpe < sharpe_index:\n",
    "            best_weights = weights\n",
    "\n",
    "    return best_weights"
   ]
  },
  {
   "cell_type": "code",
   "execution_count": 32,
   "metadata": {
    "ExecuteTime": {
     "end_time": "2023-12-01T14:22:57.151981770Z",
     "start_time": "2023-12-01T14:22:56.612310181Z"
    }
   },
   "outputs": [
    {
     "data": {
      "text/plain": "array([0.092237  , 0.0710247 , 0.02406312, 0.06710341, 0.14300006,\n       0.09353621, 0.04139599, 0.13833305, 0.05675332, 0.05697821,\n       0.0900559 , 0.08310004, 0.04241899])"
     },
     "execution_count": 32,
     "metadata": {},
     "output_type": "execute_result"
    }
   ],
   "source": [
    "monte_carlo_weights = max_sharpe_monte_carlo(mean_returns, cov_matrix, 5000)\n",
    "monte_carlo_weights"
   ]
  },
  {
   "cell_type": "code",
   "execution_count": 33,
   "metadata": {
    "ExecuteTime": {
     "end_time": "2023-12-01T14:22:57.155677398Z",
     "start_time": "2023-12-01T14:22:57.150416102Z"
    }
   },
   "outputs": [
    {
     "data": {
      "text/plain": "array([82, 12,  2, 74, 50, 55,  5, 37,  9,  1, 98, 80, 33], dtype=int32)"
     },
     "execution_count": 33,
     "metadata": {},
     "output_type": "execute_result"
    }
   ],
   "source": [
    "monte_carlo_portfolio = build_portfolio(INITIAL_FUND, monte_carlo_weights)\n",
    "monte_carlo_portfolio"
   ]
  },
  {
   "cell_type": "code",
   "execution_count": 51,
   "outputs": [
    {
     "name": "stdout",
     "output_type": "stream",
     "text": [
      "Recommended investment in BPT is 82 shares.\n",
      "Recommended investment in DAC is 12 shares.\n",
      "Recommended investment in COP is 2 shares.\n",
      "Recommended investment in STOK is 74 shares.\n",
      "Recommended investment in COFS is 50 shares.\n",
      "Recommended investment in VYX is 55 shares.\n",
      "Recommended investment in HXL is 5 shares.\n",
      "Recommended investment in CHT is 37 shares.\n",
      "Recommended investment in FTNT is 9 shares.\n",
      "Recommended investment in LRCX is 1 shares.\n",
      "Recommended investment in EVM is 98 shares.\n",
      "Recommended investment in METC is 80 shares.\n",
      "Recommended investment in DZSI is 33 shares.\n"
     ]
    }
   ],
   "source": [
    "print_weights(monte_carlo_portfolio, portfolio.columns)"
   ],
   "metadata": {
    "collapsed": false,
    "ExecuteTime": {
     "end_time": "2023-12-01T14:39:13.720036853Z",
     "start_time": "2023-12-01T14:39:13.707751512Z"
    }
   }
  },
  {
   "cell_type": "code",
   "execution_count": 34,
   "metadata": {
    "ExecuteTime": {
     "end_time": "2023-12-01T14:22:57.208309655Z",
     "start_time": "2023-12-01T14:22:57.155858347Z"
    }
   },
   "outputs": [
    {
     "name": "stdout",
     "output_type": "stream",
     "text": [
      "Initial: 9799.667016029358 End: 8950.08006465435 Ratio: 0.9133045082057039\n",
      "Expected: (0.8163612336777789, 0.5193019484321543)\n",
      " Actual: (-0.11495971739160149, 0.1708249661739967)\n"
     ]
    }
   ],
   "source": [
    "test_portfolio(monte_carlo_portfolio, monte_carlo_weights)"
   ]
  },
  {
   "cell_type": "markdown",
   "source": [
    "#### With Monte-Carlo approach, weights chosen are based on the simulation, aiming for the highest Sharpe ratio. Initially, random weights are chosen, then they are updated based on sharpe across iterations. Similar to the previous analyses, the portfolio value decreased, and the actual returns were negative during the testing period. The Monte Carlo optimization results in a portfolio with performance similar to the HRP model, indicating that both approaches may face challenges in the similar testing conditions."
   ],
   "metadata": {
    "collapsed": false
   }
  }
 ],
 "metadata": {
  "kernelspec": {
   "display_name": "imta",
   "language": "python",
   "name": "python3"
  },
  "language_info": {
   "codemirror_mode": {
    "name": "ipython",
    "version": 3
   },
   "file_extension": ".py",
   "mimetype": "text/x-python",
   "name": "python",
   "nbconvert_exporter": "python",
   "pygments_lexer": "ipython3",
   "version": "3.10.13"
  }
 },
 "nbformat": 4,
 "nbformat_minor": 2
}
