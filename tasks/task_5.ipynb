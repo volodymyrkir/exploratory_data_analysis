{
 "cells": [
  {
   "cell_type": "code",
   "execution_count": 1,
   "metadata": {
    "ExecuteTime": {
     "end_time": "2023-11-29T11:55:41.855543019Z",
     "start_time": "2023-11-29T11:55:41.808133861Z"
    }
   },
   "outputs": [],
   "source": [
    "import numpy as np\n",
    "import pandas as pd\n",
    "import matplotlib.pyplot as plt\n",
    "\n",
    "from setup import get_task_data\n",
    "import yfinance as yf\n",
    "\n",
    "from scipy.optimize import minimize\n",
    "\n",
    "import random\n",
    "SEED_VALUE = 42\n",
    "\n",
    "random.seed(SEED_VALUE)\n",
    "np.random.seed(SEED_VALUE)"
   ]
  },
  {
   "cell_type": "code",
   "execution_count": 2,
   "metadata": {
    "ExecuteTime": {
     "end_time": "2023-11-29T11:55:54.156877022Z",
     "start_time": "2023-11-29T11:55:50.633836770Z"
    }
   },
   "outputs": [
    {
     "name": "stdout",
     "output_type": "stream",
     "text": [
      "[*********************100%%**********************]  20 of 20 completed\n"
     ]
    }
   ],
   "source": [
    "financial_data = {}\n",
    "\n",
    "# Stocks have different IPO date (first trade) so only last ~3 years of data used\n",
    "HISTORY_SIZE = 1000\n",
    "TARGET_STOCKS_COUNT = 20\n",
    "INITIAL_FUND = 10000\n",
    "\n",
    "stocks_df = pd.read_csv(get_task_data(\"StocksList.csv\"))\n",
    "\n",
    "stocks_list = stocks_df['Symbol'].astype(str).to_list()\n",
    "stocks_list = list(map(lambda s: s.replace('^', '-'), stocks_list))\n",
    "random.shuffle(stocks_list)\n",
    "\n",
    "stocks_list = stocks_list[:TARGET_STOCKS_COUNT]\n",
    "\n",
    "tickers = stocks_list\n",
    "tickers_df = yf.download(tickers, period='5y')"
   ]
  },
  {
   "cell_type": "code",
   "execution_count": 3,
   "metadata": {
    "ExecuteTime": {
     "end_time": "2023-11-29T11:55:57.791183057Z",
     "start_time": "2023-11-29T11:55:57.785490068Z"
    }
   },
   "outputs": [],
   "source": [
    "tickers_df = tickers_df.iloc[-HISTORY_SIZE:]"
   ]
  },
  {
   "cell_type": "code",
   "execution_count": 4,
   "metadata": {
    "ExecuteTime": {
     "end_time": "2023-11-29T12:00:06.548213177Z",
     "start_time": "2023-11-29T12:00:06.543981461Z"
    }
   },
   "outputs": [],
   "source": [
    "columns = ['Open', 'High', 'Low', 'Close', 'Adj Close', 'Volume']\n",
    "\n",
    "def extract_history(tickers_df, stock):\n",
    "    multiindex = pd.MultiIndex.from_product([columns, [stock]])\n",
    "    stock_df = tickers_df[multiindex]\n",
    "\n",
    "    stock_df.columns = stock_df.columns.to_flat_index()\n",
    "    stock_df = stock_df.set_axis(columns, axis=1)\n",
    "    stock_df = stock_df.dropna()\n",
    "    return stock_df"
   ]
  },
  {
   "cell_type": "code",
   "execution_count": 5,
   "metadata": {
    "ExecuteTime": {
     "end_time": "2023-11-29T12:00:07.714974558Z",
     "start_time": "2023-11-29T12:00:07.649083457Z"
    }
   },
   "outputs": [
    {
     "name": "stdout",
     "output_type": "stream",
     "text": [
      "Too short history: 1\n",
      "Too short history: 740\n",
      "Too short history: 867\n",
      "Too short history: 514\n",
      "Too short history: 674\n",
      "Too short history: 872\n",
      "Too short history: 872\n"
     ]
    }
   ],
   "source": [
    "for stock in stocks_list:    \n",
    "    history = extract_history(tickers_df, stock)\n",
    "    \n",
    "    if len(history) < HISTORY_SIZE:\n",
    "        print(f\"Too short history: {len(history)}\")\n",
    "        continue\n",
    "    \n",
    "    financial_data[stock] = history.reset_index()[['Date', 'Close']].rename(columns={\"Close\": stock})"
   ]
  },
  {
   "cell_type": "code",
   "execution_count": 6,
   "metadata": {
    "ExecuteTime": {
     "end_time": "2023-11-29T12:00:09.602772018Z",
     "start_time": "2023-11-29T12:00:09.599743346Z"
    }
   },
   "outputs": [
    {
     "data": {
      "text/plain": "13"
     },
     "execution_count": 6,
     "metadata": {},
     "output_type": "execute_result"
    }
   ],
   "source": [
    "len(financial_data)"
   ]
  },
  {
   "cell_type": "code",
   "execution_count": 7,
   "metadata": {
    "ExecuteTime": {
     "end_time": "2023-11-29T12:00:11.468099619Z",
     "start_time": "2023-11-29T12:00:11.423380914Z"
    }
   },
   "outputs": [],
   "source": [
    "TRAIN_HISTORY = 800\n",
    "TEST_HISTORY = 200"
   ]
  },
  {
   "cell_type": "markdown",
   "metadata": {},
   "source": [
    "### 1 - Mean variance models, Efficient frontier "
   ]
  },
  {
   "cell_type": "code",
   "execution_count": 8,
   "metadata": {
    "ExecuteTime": {
     "end_time": "2023-11-29T12:00:40.290913232Z",
     "start_time": "2023-11-29T12:00:40.277739238Z"
    }
   },
   "outputs": [],
   "source": [
    "def mean_historical_return(stock_prices):\n",
    "    return stock_prices.pct_change().mean()\n",
    "\n",
    "def covariance(stock_prices):\n",
    "    return stock_prices.pct_change().cov()\n",
    "\n",
    "def portfolio_performance(weights, mean_returns, cov_matrix, duration):\n",
    "    returns = np.sum(mean_returns * weights) * duration\n",
    "    std = np.sqrt(np.dot(weights.T, np.dot(cov_matrix, weights)) * duration)\n",
    "    return returns, std"
   ]
  },
  {
   "cell_type": "code",
   "execution_count": 9,
   "metadata": {
    "ExecuteTime": {
     "end_time": "2023-11-29T12:00:44.461662940Z",
     "start_time": "2023-11-29T12:00:44.457305548Z"
    }
   },
   "outputs": [],
   "source": [
    "def combine_stocks(stocks):\n",
    "    df_merged = stocks[0][1]\n",
    "\n",
    "    for (name, stock) in stocks[1:]:\n",
    "        df_merged = pd.merge(df_merged,stock,on=['Date'], how='outer', suffixes=('', f'_{name}'))\n",
    "\n",
    "    df_merged = df_merged.set_index('Date')\n",
    "    return df_merged"
   ]
  },
  {
   "cell_type": "code",
   "execution_count": 10,
   "metadata": {
    "ExecuteTime": {
     "end_time": "2023-11-29T12:00:46.604177193Z",
     "start_time": "2023-11-29T12:00:46.571990367Z"
    }
   },
   "outputs": [
    {
     "data": {
      "text/plain": "Index(['BPT', 'DAC', 'COP', 'STOK', 'COFS', 'VYX', 'HXL', 'CHT', 'FTNT',\n       'LRCX', 'EVM', 'METC', 'DZSI'],\n      dtype='object')"
     },
     "execution_count": 10,
     "metadata": {},
     "output_type": "execute_result"
    }
   ],
   "source": [
    "portfolio = combine_stocks(list(financial_data.items()))\n",
    "portfolio.columns"
   ]
  },
  {
   "cell_type": "code",
   "execution_count": 11,
   "metadata": {
    "ExecuteTime": {
     "end_time": "2023-11-29T12:00:54.678351670Z",
     "start_time": "2023-11-29T12:00:54.669250241Z"
    }
   },
   "outputs": [],
   "source": [
    "mean_returns = mean_historical_return(portfolio[:TRAIN_HISTORY])\n",
    "cov_matrix = covariance(portfolio[:TRAIN_HISTORY])"
   ]
  },
  {
   "cell_type": "code",
   "execution_count": 12,
   "metadata": {
    "ExecuteTime": {
     "end_time": "2023-11-29T12:00:56.346015488Z",
     "start_time": "2023-11-29T12:00:56.339839673Z"
    }
   },
   "outputs": [],
   "source": [
    "def sharpe(weights, mean_returns, cov_matrix, risk_free = 0):\n",
    "    returns, std = portfolio_performance(weights, mean_returns, cov_matrix, TRAIN_HISTORY)\n",
    "    return (returns - risk_free) / std\n",
    "\n",
    "def neg_sharpe(weights, mean_returns, cov_matrix, risk_free = 0):\n",
    "    return -sharpe(weights, mean_returns, cov_matrix, risk_free)\n",
    "\n",
    "def max_sharpe(mean_returns, cov_matrix, risk_free = 0, constraint_set=(0,1)):\n",
    "    num_assets = len(mean_returns)\n",
    "    \n",
    "    args = (mean_returns, cov_matrix, risk_free)\n",
    "    constraints = ({'type': 'eq', 'fun': lambda x: np.sum(x) - 1})\n",
    "    \n",
    "    bound = constraint_set\n",
    "    bounds = tuple(bound for _ in range(num_assets))\n",
    "    \n",
    "    result = minimize(neg_sharpe, num_assets*[1./num_assets], args=args,\n",
    "                        method='SLSQP', bounds=bounds, constraints=constraints)\n",
    "    return result"
   ]
  },
  {
   "cell_type": "code",
   "execution_count": 13,
   "metadata": {
    "ExecuteTime": {
     "end_time": "2023-11-29T12:01:05.078945243Z",
     "start_time": "2023-11-29T12:01:05.076586364Z"
    }
   },
   "outputs": [],
   "source": [
    "def portfolio_variance(weights, mean_returns, cov_matrix):\n",
    "    return portfolio_performance(weights, mean_returns, cov_matrix, TRAIN_HISTORY)[1]\n",
    "\n",
    "def minimize_variance(mean_returns, cov_matrix, constraint_set=(0,1)):\n",
    "    num_assets = len(mean_returns)\n",
    "    \n",
    "    args = (mean_returns, cov_matrix)\n",
    "    constraints = ({'type': 'eq', 'fun': lambda x: np.sum(x) - 1})\n",
    "    \n",
    "    bound = constraint_set\n",
    "    bounds = tuple(bound for _ in range(num_assets))\n",
    "    \n",
    "    result = minimize(portfolio_variance, num_assets*[1./num_assets], args=args,\n",
    "                        method='SLSQP', bounds=bounds, constraints=constraints)\n",
    "    return result"
   ]
  },
  {
   "cell_type": "code",
   "execution_count": 14,
   "metadata": {
    "ExecuteTime": {
     "end_time": "2023-11-29T12:01:06.437954122Z",
     "start_time": "2023-11-29T12:01:06.435868463Z"
    }
   },
   "outputs": [],
   "source": [
    "def portfolio_return(weights, mean_returns, cov_matrix):\n",
    "    return portfolio_performance(weights, mean_returns, cov_matrix, TRAIN_HISTORY)[0]\n",
    "\n",
    "def efficient_portfolio(mean_returns, cov_matrix, return_target, constraint_set=(0,1)):\n",
    "    num_assets = len(mean_returns)\n",
    "    \n",
    "    args = (mean_returns, cov_matrix)\n",
    "    constraints = ({'type':'eq', 'fun': lambda x: portfolio_return(x, mean_returns, cov_matrix) - return_target},\n",
    "                    {'type': 'eq', 'fun': lambda x: np.sum(x) - 1})\n",
    "    \n",
    "    bound = constraint_set\n",
    "    bounds = tuple(bound for _ in range(num_assets))\n",
    "    \n",
    "    eff = minimize(portfolio_variance, num_assets*[1./num_assets], args=args, method = 'SLSQP', bounds=bounds, constraints=constraints)\n",
    "    return eff"
   ]
  },
  {
   "cell_type": "code",
   "execution_count": 15,
   "metadata": {
    "ExecuteTime": {
     "end_time": "2023-11-29T12:01:07.928457886Z",
     "start_time": "2023-11-29T12:01:07.919195093Z"
    }
   },
   "outputs": [],
   "source": [
    "def efficient_frontier(mean_returns, cov_matrix, risk_free=0, constraint_set=(0,1)):\n",
    "    max_sharpe_portfolio = max_sharpe(mean_returns, cov_matrix, risk_free, constraint_set).x\n",
    "    ms_returns = portfolio_performance(max_sharpe_portfolio, mean_returns, cov_matrix, TRAIN_HISTORY)\n",
    "\n",
    "    minimize_variance_portfolio = minimize_variance(mean_returns, cov_matrix, constraint_set).x\n",
    "    mv_returns = portfolio_performance(minimize_variance_portfolio, mean_returns, cov_matrix)\n",
    "\n",
    "    efficient_list = []\n",
    "    target_returns = np.linspace(mv_returns, ms_returns, 20)\n",
    "    for target in target_returns:\n",
    "        efficient_list.append(efficient_portfolio(mean_returns, cov_matrix, target, constraint_set)['fun'])\n",
    "    \n",
    "    return efficient_list"
   ]
  },
  {
   "cell_type": "code",
   "execution_count": 16,
   "metadata": {
    "ExecuteTime": {
     "end_time": "2023-11-29T12:01:09.535894129Z",
     "start_time": "2023-11-29T12:01:09.531305998Z"
    }
   },
   "outputs": [],
   "source": [
    "def build_portfolio(initial_fund, weights):\n",
    "    prices = portfolio.iloc[TRAIN_HISTORY].to_numpy()\n",
    "    return ((initial_fund * weights) / prices).astype('int32')"
   ]
  },
  {
   "cell_type": "code",
   "execution_count": 17,
   "metadata": {
    "ExecuteTime": {
     "end_time": "2023-11-29T12:01:10.707812283Z",
     "start_time": "2023-11-29T12:01:10.665617018Z"
    }
   },
   "outputs": [],
   "source": [
    "mean_var_weights = max_sharpe(mean_returns, cov_matrix).x"
   ]
  },
  {
   "cell_type": "code",
   "execution_count": 18,
   "metadata": {
    "ExecuteTime": {
     "end_time": "2023-11-29T12:01:11.658920638Z",
     "start_time": "2023-11-29T12:01:11.654798350Z"
    }
   },
   "outputs": [],
   "source": [
    "mean_var_portfolio = build_portfolio(INITIAL_FUND, mean_var_weights)"
   ]
  },
  {
   "cell_type": "code",
   "execution_count": 19,
   "metadata": {
    "ExecuteTime": {
     "end_time": "2023-11-29T12:01:12.661249487Z",
     "start_time": "2023-11-29T12:01:12.639023678Z"
    }
   },
   "outputs": [
    {
     "data": {
      "text/plain": "array([ 72,  70,   0,   0,   0,   0,   0,   0,  58,   0,   0, 137,  10],\n      dtype=int32)"
     },
     "execution_count": 19,
     "metadata": {},
     "output_type": "execute_result"
    }
   ],
   "source": [
    "mean_var_portfolio"
   ]
  },
  {
   "cell_type": "code",
   "execution_count": 20,
   "metadata": {
    "ExecuteTime": {
     "end_time": "2023-11-29T12:01:19.918159560Z",
     "start_time": "2023-11-29T12:01:19.915126985Z"
    }
   },
   "outputs": [],
   "source": [
    "def test_portfolio(stocks, weights):\n",
    "    old_prices = portfolio.iloc[TRAIN_HISTORY].to_numpy()\n",
    "    portfolio_initial_value = np.sum(stocks * old_prices)\n",
    "\n",
    "    prices = portfolio.iloc[-1].to_numpy()\n",
    "    portfolio_end_value = np.sum(stocks * prices)\n",
    "\n",
    "    # ratio\n",
    "    print(f'Initial: {portfolio_initial_value} End: {portfolio_end_value} Ratio: {portfolio_end_value / portfolio_initial_value}')\n",
    "\n",
    "    # expected performance\n",
    "    expected = portfolio_performance(weights, mean_returns, cov_matrix, TRAIN_HISTORY)\n",
    "\n",
    "    mean_var_mean_returns = mean_historical_return(portfolio[TRAIN_HISTORY:])\n",
    "    mean_var_cov_matrix = covariance(portfolio[TRAIN_HISTORY:])\n",
    "    # actual performance\n",
    "    actual = portfolio_performance(weights, mean_var_mean_returns, mean_var_cov_matrix, TEST_HISTORY)\n",
    "\n",
    "    print(f'Expected: {expected}\\n Actual: {actual}')"
   ]
  },
  {
   "cell_type": "code",
   "execution_count": 21,
   "metadata": {
    "ExecuteTime": {
     "end_time": "2023-11-29T12:01:22.321849352Z",
     "start_time": "2023-11-29T12:01:22.312867481Z"
    }
   },
   "outputs": [
    {
     "name": "stdout",
     "output_type": "stream",
     "text": [
      "Initial: 9951.960224151611 End: 10497.78010892868 Ratio: 1.0548454648615317\n",
      "Expected: (2.1661579908239545, 0.8147614910787141)\n",
      " Actual: (0.06033290481497871, 0.23116900700445595)\n"
     ]
    }
   ],
   "source": [
    "test_portfolio(mean_var_portfolio, mean_var_weights)"
   ]
  },
  {
   "cell_type": "markdown",
   "source": [
    "### The portfolio shows a positive return, but the actual performance in the testing period is lower than the expected performance based on historical data. ( 0.6 returns actual vs 2.16 expected). This could be due to changes in market conditions or unforeseen events in the latest testing data."
   ],
   "metadata": {
    "collapsed": false
   }
  },
  {
   "cell_type": "markdown",
   "metadata": {},
   "source": [
    "### 2 - Risk parity models"
   ]
  },
  {
   "cell_type": "code",
   "execution_count": 22,
   "metadata": {
    "ExecuteTime": {
     "end_time": "2023-11-29T12:02:09.808974793Z",
     "start_time": "2023-11-29T12:02:09.610587195Z"
    }
   },
   "outputs": [],
   "source": [
    "from sklearn.cluster import AgglomerativeClustering"
   ]
  },
  {
   "cell_type": "code",
   "execution_count": 23,
   "metadata": {
    "ExecuteTime": {
     "end_time": "2023-11-29T12:02:16.048046028Z",
     "start_time": "2023-11-29T12:02:16.003749198Z"
    }
   },
   "outputs": [],
   "source": [
    "model = AgglomerativeClustering(distance_threshold=0, n_clusters=None)\n",
    "model = model.fit(portfolio.to_numpy().T)"
   ]
  },
  {
   "cell_type": "code",
   "execution_count": 24,
   "metadata": {
    "ExecuteTime": {
     "end_time": "2023-11-29T12:02:18.142320302Z",
     "start_time": "2023-11-29T12:02:18.139697162Z"
    }
   },
   "outputs": [],
   "source": [
    "from scipy.cluster.hierarchy import dendrogram"
   ]
  },
  {
   "cell_type": "code",
   "execution_count": 25,
   "metadata": {
    "ExecuteTime": {
     "end_time": "2023-11-29T12:02:20.373246472Z",
     "start_time": "2023-11-29T12:02:20.371021231Z"
    }
   },
   "outputs": [],
   "source": [
    "def plot_dendrogram(model, **kwargs):\n",
    "    # Create linkage matrix and then plot the dendrogram\n",
    "\n",
    "    # create the counts of samples under each node\n",
    "    counts = np.zeros(model.children_.shape[0])\n",
    "    n_samples = len(model.labels_)\n",
    "    for i, merge in enumerate(model.children_):\n",
    "        current_count = 0\n",
    "        for child_idx in merge:\n",
    "            if child_idx < n_samples:\n",
    "                current_count += 1  # leaf node\n",
    "            else:\n",
    "                current_count += counts[child_idx - n_samples]\n",
    "        counts[i] = current_count\n",
    "\n",
    "    linkage_matrix = np.column_stack(\n",
    "        [model.children_, np.log(model.distances_), counts]\n",
    "    ).astype(float)\n",
    "\n",
    "    # Plot the corresponding dendrogram\n",
    "    plt.figure(figsize=(12, 6))\n",
    "    dendrogram(linkage_matrix, **kwargs)"
   ]
  },
  {
   "cell_type": "code",
   "execution_count": 26,
   "metadata": {
    "ExecuteTime": {
     "end_time": "2023-11-29T12:02:22.556725921Z",
     "start_time": "2023-11-29T12:02:22.253487876Z"
    }
   },
   "outputs": [
    {
     "data": {
      "text/plain": "<Figure size 1200x600 with 1 Axes>",
      "image/png": "[encoded data removed]"
     },
     "metadata": {},
     "output_type": "display_data"
    }
   ],
   "source": [
    "plot_dendrogram(model)"
   ]
  },
  {
   "cell_type": "code",
   "execution_count": 27,
   "metadata": {
    "ExecuteTime": {
     "end_time": "2023-11-29T12:02:29.159388887Z",
     "start_time": "2023-11-29T12:02:29.154288282Z"
    }
   },
   "outputs": [],
   "source": [
    "def hierarchical_risk_parity(portfolio):\n",
    "    portfolio_arr = portfolio.to_numpy().T\n",
    "\n",
    "    model = AgglomerativeClustering(distance_threshold=0, n_clusters=None)\n",
    "    model = model.fit(portfolio_arr)\n",
    "    samples_count = len(portfolio.columns)\n",
    "\n",
    "    subsets = {}\n",
    "    weights = {}\n",
    "    \n",
    "    bisections = model.children_.tolist()\n",
    "    clusters_count = len(bisections) + samples_count - 1\n",
    "\n",
    "    def get_subset(index):\n",
    "        if index < samples_count:\n",
    "            return [index]\n",
    "        else:\n",
    "            return subsets[index]\n",
    "\n",
    "    for i in range(len(bisections)):\n",
    "        bisection = bisections[i]\n",
    "        new_index = samples_count + i\n",
    "\n",
    "        subsets[new_index] = get_subset(bisection[0]) + get_subset(bisection[1])\n",
    "\n",
    "    bisections.reverse()\n",
    "    weights[clusters_count] = 1 \n",
    "\n",
    "    for i in range(len(bisections)):\n",
    "        bisection = bisections[i]\n",
    "        weight = weights[clusters_count - i]\n",
    "\n",
    "        v1 = np.var(portfolio_arr[get_subset(bisection[0])])\n",
    "        v2 = np.var(portfolio_arr[get_subset(bisection[1])])\n",
    "\n",
    "        a1 = 1 - v1 / (v1 + v2)\n",
    "        a2 = 1 - a1\n",
    "\n",
    "        weights[bisection[0]] = a1 * weight\n",
    "        weights[bisection[1]] = a2 * weight\n",
    "    \n",
    "    return np.array(list(map(lambda n: weights[n], range(0, samples_count))))"
   ]
  },
  {
   "cell_type": "code",
   "execution_count": 28,
   "metadata": {
    "ExecuteTime": {
     "end_time": "2023-11-29T12:02:30.400100949Z",
     "start_time": "2023-11-29T12:02:30.371097827Z"
    }
   },
   "outputs": [
    {
     "data": {
      "text/plain": "array([0.11138966, 0.00488221, 0.03385703, 0.02127754, 0.09712901,\n       0.03772903, 0.00333547, 0.06807481, 0.01425526, 0.038788  ,\n       0.40519113, 0.13185089, 0.03223997])"
     },
     "execution_count": 28,
     "metadata": {},
     "output_type": "execute_result"
    }
   ],
   "source": [
    "hrp_weights = hierarchical_risk_parity(portfolio)\n",
    "hrp_weights"
   ]
  },
  {
   "cell_type": "code",
   "execution_count": 29,
   "metadata": {
    "ExecuteTime": {
     "end_time": "2023-11-29T12:02:37.149790852Z",
     "start_time": "2023-11-29T12:02:37.145443522Z"
    }
   },
   "outputs": [
    {
     "data": {
      "text/plain": "array([ 98,   0,   3,  23,  34,  22,   0,  18,   2,   0, 439, 133,  26],\n      dtype=int32)"
     },
     "execution_count": 29,
     "metadata": {},
     "output_type": "execute_result"
    }
   ],
   "source": [
    "hrp_portfolio = build_portfolio(INITIAL_FUND, hrp_weights)\n",
    "hrp_portfolio"
   ]
  },
  {
   "cell_type": "code",
   "execution_count": 30,
   "metadata": {
    "ExecuteTime": {
     "end_time": "2023-11-29T12:02:42.594287346Z",
     "start_time": "2023-11-29T12:02:42.588451507Z"
    }
   },
   "outputs": [
    {
     "name": "stdout",
     "output_type": "stream",
     "text": [
      "Initial: 9457.232498168945 End: 8865.359863758087 Ratio: 0.9374158735628575\n",
      "Expected: (0.5723077564639039, 0.4384872572238484)\n",
      " Actual: (-0.08191829842457488, 0.1641891665821426)\n"
     ]
    }
   ],
   "source": [
    "test_portfolio(hrp_portfolio, hrp_weights)"
   ]
  },
  {
   "cell_type": "markdown",
   "source": [
    "#### Based on Risk-Parity portfolio optimization technique, which is used to distribute weights across portfolio values to minimize the overall risk. We got decrease in portfolio value, having 0.57% returns as expected, but actually got -0.08. This may indicate that historical variance may not impact current raises and falls for specific businesses always, in respect to dynamic and unpredicted market changes, and that HRP approach performed worse for us."
   ],
   "metadata": {
    "collapsed": false
   }
  },
  {
   "cell_type": "markdown",
   "metadata": {},
   "source": [
    "### 3 - Monte-Carlo modelling"
   ]
  },
  {
   "cell_type": "code",
   "execution_count": 473,
   "metadata": {},
   "outputs": [],
   "source": [
    "def max_sharpe_monte_carlo(mean_returns, cov_matrix, iterations, risk_free = 0):\n",
    "    num_assets = len(mean_returns)\n",
    "    \n",
    "    best_weights = None\n",
    "    best_sharpe = 0\n",
    "\n",
    "    for _ in range(iterations):\n",
    "        weights = np.array(np.random.random(num_assets))\n",
    "        # Rebalance Weights\n",
    "        weights = weights / np.sum(weights)\n",
    "    \n",
    "        sharpe_index = sharpe(weights, mean_returns, cov_matrix, risk_free)\n",
    "        if best_weights is None or best_sharpe < sharpe_index:\n",
    "            best_weights = weights\n",
    "\n",
    "    return best_weights"
   ]
  },
  {
   "cell_type": "code",
   "execution_count": 474,
   "metadata": {},
   "outputs": [
    {
     "data": {
      "text/plain": [
       "array([0.092237  , 0.0710247 , 0.02406312, 0.06710341, 0.14300006,\n",
       "       0.09353621, 0.04139599, 0.13833305, 0.05675332, 0.05697821,\n",
       "       0.0900559 , 0.08310004, 0.04241899])"
      ]
     },
     "execution_count": 474,
     "metadata": {},
     "output_type": "execute_result"
    }
   ],
   "source": [
    "monte_carlo_weights = max_sharpe_monte_carlo(mean_returns, cov_matrix, 5000)\n",
    "monte_carlo_weights"
   ]
  },
  {
   "cell_type": "code",
   "execution_count": 475,
   "metadata": {},
   "outputs": [
    {
     "data": {
      "text/plain": [
       "array([83, 11,  2, 72, 51, 57,  5, 37,  9,  1, 97, 83, 32])"
      ]
     },
     "execution_count": 475,
     "metadata": {},
     "output_type": "execute_result"
    }
   ],
   "source": [
    "monte_carlo_portfolio = build_portfolio(INITIAL_FUND, monte_carlo_weights)\n",
    "monte_carlo_portfolio"
   ]
  },
  {
   "cell_type": "code",
   "execution_count": 476,
   "metadata": {},
   "outputs": [
    {
     "name": "stdout",
     "output_type": "stream",
     "text": [
      "Initial: 9720.872159957886 End: 9024.740044593811 Ratio: 0.9283878952516653\n",
      "Expected: (0.8368919165488476, 0.5195880232168469)\n",
      " Actual: (-0.1037708221896241, 0.17123424778805815)\n"
     ]
    }
   ],
   "source": [
    "test_portfolio(monte_carlo_portfolio, monte_carlo_weights)"
   ]
  },
  {
   "cell_type": "markdown",
   "source": [
    "#### With Monte-Carlo approach, weights chosen are based on the simulation, aiming for the highest Sharpe ratio. Initially, random weights are chosen, then they are updated based on sharpe across iterations. Similar to the previous analyses, the portfolio value decreased, and the actual returns were negative during the testing period. The Monte Carlo optimization results in a portfolio with performance similar to the HRP model, indicating that both approaches may face challenges in the similar testing conditions."
   ],
   "metadata": {
    "collapsed": false
   }
  }
 ],
 "metadata": {
  "kernelspec": {
   "display_name": "imta",
   "language": "python",
   "name": "python3"
  },
  "language_info": {
   "codemirror_mode": {
    "name": "ipython",
    "version": 3
   },
   "file_extension": ".py",
   "mimetype": "text/x-python",
   "name": "python",
   "nbconvert_exporter": "python",
   "pygments_lexer": "ipython3",
   "version": "3.10.13"
  }
 },
 "nbformat": 4,
 "nbformat_minor": 2
}
