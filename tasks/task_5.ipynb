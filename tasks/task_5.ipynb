{
 "cells": [
  {
   "cell_type": "code",
   "execution_count": 846,
   "metadata": {
    "ExecuteTime": {
     "end_time": "2023-12-01T14:22:54.079991213Z",
     "start_time": "2023-12-01T14:22:54.031627064Z"
    }
   },
   "outputs": [],
   "source": [
    "import numpy as np\n",
    "import pandas as pd\n",
    "import matplotlib.pyplot as plt\n",
    "\n",
    "from setup import get_task_data\n",
    "import yfinance as yf\n",
    "\n",
    "from sklearn.covariance import ShrunkCovariance\n",
    "from scipy.optimize import minimize\n",
    "\n",
    "from itertools import product\n",
    "\n",
    "import random\n",
    "SEED_VALUE = 42\n",
    "\n",
    "random.seed(SEED_VALUE)\n",
    "np.random.seed(SEED_VALUE)"
   ]
  },
  {
   "cell_type": "code",
   "execution_count": 847,
   "metadata": {
    "ExecuteTime": {
     "end_time": "2023-12-01T14:22:55.970385016Z",
     "start_time": "2023-12-01T14:22:54.079832999Z"
    }
   },
   "outputs": [
    {
     "name": "stdout",
     "output_type": "stream",
     "text": [
      "[*********************100%%**********************]  20 of 20 completed\n"
     ]
    }
   ],
   "source": [
    "financial_data = {}\n",
    "\n",
    "# Stocks have different IPO date (first trade) so only last ~3 years of data used\n",
    "HISTORY_SIZE = 1000\n",
    "TARGET_STOCKS_COUNT = 20\n",
    "INITIAL_FUND = 10000\n",
    "\n",
    "stocks_df = pd.read_csv(get_task_data(\"StocksList.csv\"))\n",
    "\n",
    "stocks_list = stocks_df['Symbol'].astype(str).to_list()\n",
    "stocks_list = list(map(lambda s: s.replace('^', '-'), stocks_list))\n",
    "random.shuffle(stocks_list)\n",
    "\n",
    "stocks_list = stocks_list[:TARGET_STOCKS_COUNT]\n",
    "\n",
    "tickers = stocks_list\n",
    "tickers_df = yf.download(tickers, period='5y')"
   ]
  },
  {
   "cell_type": "code",
   "execution_count": 848,
   "metadata": {
    "ExecuteTime": {
     "end_time": "2023-12-01T14:22:55.970816540Z",
     "start_time": "2023-12-01T14:22:55.938228668Z"
    }
   },
   "outputs": [],
   "source": [
    "tickers_df = tickers_df.iloc[-HISTORY_SIZE:]"
   ]
  },
  {
   "cell_type": "code",
   "execution_count": 849,
   "metadata": {
    "ExecuteTime": {
     "end_time": "2023-12-01T14:22:55.988828774Z",
     "start_time": "2023-12-01T14:22:55.983606738Z"
    }
   },
   "outputs": [],
   "source": [
    "columns = ['Open', 'High', 'Low', 'Close', 'Adj Close', 'Volume']\n",
    "\n",
    "def extract_history(tickers_df, stock):\n",
    "    multiindex = pd.MultiIndex.from_product([columns, [stock]])\n",
    "    stock_df = tickers_df[multiindex]\n",
    "\n",
    "    stock_df.columns = stock_df.columns.to_flat_index()\n",
    "    stock_df = stock_df.set_axis(columns, axis=1)\n",
    "    stock_df = stock_df.dropna()\n",
    "    return stock_df"
   ]
  },
  {
   "cell_type": "code",
   "execution_count": 850,
   "metadata": {
    "ExecuteTime": {
     "end_time": "2023-12-01T14:22:56.031366775Z",
     "start_time": "2023-12-01T14:22:55.984100044Z"
    }
   },
   "outputs": [
    {
     "name": "stdout",
     "output_type": "stream",
     "text": [
      "Too short history: 1\n",
      "Too short history: 743\n",
      "Too short history: 870\n",
      "Too short history: 517\n",
      "Too short history: 677\n",
      "Too short history: 875\n",
      "Too short history: 875\n"
     ]
    }
   ],
   "source": [
    "for stock in stocks_list:    \n",
    "    history = extract_history(tickers_df, stock)\n",
    "    \n",
    "    if len(history) < HISTORY_SIZE:\n",
    "        print(f\"Too short history: {len(history)}\")\n",
    "        continue\n",
    "    \n",
    "    financial_data[stock] = history.reset_index()[['Date', 'Close']].rename(columns={\"Close\": stock})"
   ]
  },
  {
   "cell_type": "code",
   "execution_count": 851,
   "metadata": {
    "ExecuteTime": {
     "end_time": "2023-12-01T14:22:56.032226402Z",
     "start_time": "2023-12-01T14:22:56.027713577Z"
    }
   },
   "outputs": [
    {
     "data": {
      "text/plain": [
       "13"
      ]
     },
     "execution_count": 851,
     "metadata": {},
     "output_type": "execute_result"
    }
   ],
   "source": [
    "len(financial_data)"
   ]
  },
  {
   "cell_type": "code",
   "execution_count": 852,
   "metadata": {
    "ExecuteTime": {
     "end_time": "2023-12-01T14:22:56.032507662Z",
     "start_time": "2023-12-01T14:22:56.028040768Z"
    }
   },
   "outputs": [],
   "source": [
    "TRAIN_HISTORY = 800\n",
    "TEST_HISTORY = 200"
   ]
  },
  {
   "cell_type": "markdown",
   "metadata": {},
   "source": [
    "### 1 - Mean variance models, Efficient frontier "
   ]
  },
  {
   "cell_type": "code",
   "execution_count": 853,
   "metadata": {
    "ExecuteTime": {
     "end_time": "2023-12-01T14:22:56.086192856Z",
     "start_time": "2023-12-01T14:22:56.075599953Z"
    }
   },
   "outputs": [],
   "source": [
    "def mean_historical_return(stock_prices, method='classic'):\n",
    "    if method == 'classic':\n",
    "        return stock_prices.pct_change().mean()\n",
    "    if method == 'log':\n",
    "        log_returns = np.log(stock_prices.pct_change().to_numpy() + 1)\n",
    "        log_returns_df = pd.DataFrame(log_returns, columns=stock_prices.columns)\n",
    "        return log_returns_df.mean()\n",
    "\n",
    "def covariance(stock_prices, method='classic'):\n",
    "    if method == 'classic':\n",
    "        return stock_prices.pct_change().cov()\n",
    "    if method == 'shrunk':\n",
    "        arr = stock_prices.to_numpy()\n",
    "        cov = ShrunkCovariance().fit(arr)\n",
    "        shrunk_cov_df = pd.DataFrame(cov.covariance_ / len(stock_prices), columns=stock_prices.columns, index=stock_prices.columns)\n",
    "        return shrunk_cov_df\n",
    "\n",
    "def portfolio_performance(weights, mean_returns, cov_matrix, duration):\n",
    "    returns = np.sum(mean_returns * weights) * duration\n",
    "    std = np.sqrt(np.dot(weights.T, np.dot(cov_matrix, weights)) * duration)\n",
    "    return returns, std"
   ]
  },
  {
   "cell_type": "code",
   "execution_count": 854,
   "metadata": {
    "ExecuteTime": {
     "end_time": "2023-12-01T14:22:56.086502730Z",
     "start_time": "2023-12-01T14:22:56.075874839Z"
    }
   },
   "outputs": [],
   "source": [
    "def combine_stocks(stocks):\n",
    "    df_merged = stocks[0][1]\n",
    "\n",
    "    for (name, stock) in stocks[1:]:\n",
    "        df_merged = pd.merge(df_merged,stock,on=['Date'], how='outer', suffixes=('', f'_{name}'))\n",
    "\n",
    "    df_merged = df_merged.set_index('Date')\n",
    "    return df_merged"
   ]
  },
  {
   "cell_type": "code",
   "execution_count": 855,
   "metadata": {
    "ExecuteTime": {
     "end_time": "2023-12-01T14:22:56.086857679Z",
     "start_time": "2023-12-01T14:22:56.076036787Z"
    }
   },
   "outputs": [
    {
     "data": {
      "text/plain": [
       "Index(['BPT', 'DAC', 'COP', 'STOK', 'COFS', 'VYX', 'HXL', 'CHT', 'FTNT',\n",
       "       'LRCX', 'EVM', 'METC', 'DZSI'],\n",
       "      dtype='object')"
      ]
     },
     "execution_count": 855,
     "metadata": {},
     "output_type": "execute_result"
    }
   ],
   "source": [
    "portfolio = combine_stocks(list(financial_data.items()))\n",
    "portfolio.columns"
   ]
  },
  {
   "cell_type": "code",
   "execution_count": 856,
   "metadata": {
    "ExecuteTime": {
     "end_time": "2023-12-01T14:22:56.086998286Z",
     "start_time": "2023-12-01T14:22:56.076184094Z"
    }
   },
   "outputs": [],
   "source": [
    "mean_returns = mean_historical_return(portfolio[:TRAIN_HISTORY])\n",
    "log_returns = mean_historical_return(portfolio[:TRAIN_HISTORY], 'log')\n",
    "cov_matrix = covariance(portfolio[:TRAIN_HISTORY])\n",
    "shrunk_cov_matrix = covariance(portfolio[:TRAIN_HISTORY], 'shrunk')"
   ]
  },
  {
   "cell_type": "code",
   "execution_count": 857,
   "metadata": {
    "ExecuteTime": {
     "end_time": "2023-12-01T14:22:56.087537681Z",
     "start_time": "2023-12-01T14:22:56.076310821Z"
    }
   },
   "outputs": [],
   "source": [
    "def sharpe(weights, mean_returns, cov_matrix, risk_free = 0):\n",
    "    returns, std = portfolio_performance(weights, mean_returns, cov_matrix, TRAIN_HISTORY)\n",
    "    return (returns - risk_free) / std\n",
    "\n",
    "def neg_sharpe(weights, mean_returns, cov_matrix, risk_free = 0):\n",
    "    return -sharpe(weights, mean_returns, cov_matrix, risk_free)\n",
    "\n",
    "def max_sharpe(mean_returns, cov_matrix, risk_free = 0, constraint_set=(0,1)):\n",
    "    num_assets = len(mean_returns)\n",
    "    \n",
    "    args = (mean_returns, cov_matrix, risk_free)\n",
    "    constraints = ({'type': 'eq', 'fun': lambda x: np.sum(x) - 1})\n",
    "    \n",
    "    bound = constraint_set\n",
    "    bounds = tuple(bound for _ in range(num_assets))\n",
    "    \n",
    "    result = minimize(neg_sharpe, num_assets*[1./num_assets], args=args,\n",
    "                        method='SLSQP', bounds=bounds, constraints=constraints)\n",
    "    return result"
   ]
  },
  {
   "cell_type": "code",
   "execution_count": 858,
   "metadata": {
    "ExecuteTime": {
     "end_time": "2023-12-01T14:22:56.134222109Z",
     "start_time": "2023-12-01T14:22:56.119729183Z"
    }
   },
   "outputs": [],
   "source": [
    "def portfolio_variance(weights, mean_returns, cov_matrix):\n",
    "    return portfolio_performance(weights, mean_returns, cov_matrix, TRAIN_HISTORY)[1]\n",
    "\n",
    "def minimize_variance(mean_returns, cov_matrix, constraint_set=(0,1)):\n",
    "    num_assets = len(mean_returns)\n",
    "    \n",
    "    args = (mean_returns, cov_matrix)\n",
    "    constraints = ({'type': 'eq', 'fun': lambda x: np.sum(x) - 1})\n",
    "    \n",
    "    bound = constraint_set\n",
    "    bounds = tuple(bound for _ in range(num_assets))\n",
    "    \n",
    "    result = minimize(portfolio_variance, num_assets*[1./num_assets], args=args,\n",
    "                        method='SLSQP', bounds=bounds, constraints=constraints)\n",
    "    return result"
   ]
  },
  {
   "cell_type": "code",
   "execution_count": 859,
   "metadata": {
    "ExecuteTime": {
     "end_time": "2023-12-01T14:22:56.134700216Z",
     "start_time": "2023-12-01T14:22:56.120461601Z"
    }
   },
   "outputs": [],
   "source": [
    "def portfolio_return(weights, mean_returns, cov_matrix):\n",
    "    return portfolio_performance(weights, mean_returns, cov_matrix, TRAIN_HISTORY)[0]\n",
    "\n",
    "def efficient_portfolio(mean_returns, cov_matrix, return_target, constraint_set=(0,1)):\n",
    "    num_assets = len(mean_returns)\n",
    "    \n",
    "    args = (mean_returns, cov_matrix)\n",
    "    constraints = ({'type':'eq', 'fun': lambda x: portfolio_return(x, mean_returns, cov_matrix) - return_target},\n",
    "                    {'type': 'eq', 'fun': lambda x: np.sum(x) - 1})\n",
    "    \n",
    "    bound = constraint_set\n",
    "    bounds = tuple(bound for _ in range(num_assets))\n",
    "    \n",
    "    eff = minimize(portfolio_variance, num_assets*[1./num_assets], args=args, method = 'SLSQP', bounds=bounds, constraints=constraints)\n",
    "    return eff"
   ]
  },
  {
   "cell_type": "code",
   "execution_count": 860,
   "metadata": {
    "ExecuteTime": {
     "end_time": "2023-12-01T14:22:56.135019541Z",
     "start_time": "2023-12-01T14:22:56.120708544Z"
    }
   },
   "outputs": [],
   "source": [
    "def efficient_frontier(mean_returns, cov_matrix, risk_free=0, constraint_set=(0,1)):\n",
    "    max_sharpe_portfolio = max_sharpe(mean_returns, cov_matrix, risk_free, constraint_set).x\n",
    "    ms_returns = portfolio_performance(max_sharpe_portfolio, mean_returns, cov_matrix, TRAIN_HISTORY)\n",
    "\n",
    "    minimize_variance_portfolio = minimize_variance(mean_returns, cov_matrix, constraint_set).x\n",
    "    mv_returns = portfolio_performance(minimize_variance_portfolio, mean_returns, cov_matrix)\n",
    "\n",
    "    efficient_list = []\n",
    "    target_returns = np.linspace(mv_returns, ms_returns, 20)\n",
    "    for target in target_returns:\n",
    "        efficient_list.append(efficient_portfolio(mean_returns, cov_matrix, target, constraint_set)['fun'])\n",
    "    \n",
    "    return efficient_list"
   ]
  },
  {
   "cell_type": "code",
   "execution_count": 861,
   "metadata": {
    "ExecuteTime": {
     "end_time": "2023-12-01T14:22:56.135177470Z",
     "start_time": "2023-12-01T14:22:56.120949983Z"
    }
   },
   "outputs": [],
   "source": [
    "def build_portfolio(initial_fund, weights):\n",
    "    prices = portfolio.iloc[TRAIN_HISTORY].to_numpy()\n",
    "    return ((initial_fund * weights) / prices).astype('int32')"
   ]
  },
  {
   "cell_type": "code",
   "execution_count": 862,
   "metadata": {
    "ExecuteTime": {
     "end_time": "2023-12-01T14:37:32.402512350Z",
     "start_time": "2023-12-01T14:37:32.357136879Z"
    },
    "collapsed": false
   },
   "outputs": [],
   "source": [
    "def print_weights(portfolio, companies):\n",
    "    for index, value in enumerate(portfolio):\n",
    "        print(f'Recommended investment in {companies[index]} is {value} shares.')"
   ]
  },
  {
   "cell_type": "code",
   "execution_count": 863,
   "metadata": {
    "ExecuteTime": {
     "end_time": "2023-12-01T14:22:56.182839108Z",
     "start_time": "2023-12-01T14:22:56.179998861Z"
    }
   },
   "outputs": [],
   "source": [
    "def test_portfolio(stocks, weights):\n",
    "    old_prices = portfolio.iloc[TRAIN_HISTORY].to_numpy()\n",
    "    portfolio_initial_value = np.sum(stocks * old_prices)\n",
    "\n",
    "    prices = portfolio.iloc[-1].to_numpy()\n",
    "    portfolio_end_value = np.sum(stocks * prices)\n",
    "\n",
    "    # ratio\n",
    "    print(f'Initial: {portfolio_initial_value} End: {portfolio_end_value} Ratio: {portfolio_end_value / portfolio_initial_value}')\n",
    "\n",
    "    # expected performance\n",
    "    expected = portfolio_performance(weights, mean_returns, cov_matrix, TRAIN_HISTORY)\n",
    "\n",
    "    mean_var_mean_returns = mean_historical_return(portfolio[TRAIN_HISTORY:])\n",
    "    mean_var_cov_matrix = covariance(portfolio[TRAIN_HISTORY:])\n",
    "    # actual performance\n",
    "    actual = portfolio_performance(weights, mean_var_mean_returns, mean_var_cov_matrix, TEST_HISTORY)\n",
    "\n",
    "    print(f'Expected: {expected}\\n Actual: {actual}')"
   ]
  },
  {
   "cell_type": "code",
   "execution_count": 864,
   "metadata": {},
   "outputs": [],
   "source": [
    "returns = [\n",
    "    ('classic', mean_returns), \n",
    "    ('log', log_returns),\n",
    "]\n",
    "\n",
    "cov_matrices = [\n",
    "    ('classic', cov_matrix), \n",
    "    ('shrunk', shrunk_cov_matrix),\n",
    "]\n",
    "\n",
    "test_data = list(product(returns, cov_matrices))"
   ]
  },
  {
   "cell_type": "code",
   "execution_count": 865,
   "metadata": {},
   "outputs": [
    {
     "name": "stdout",
     "output_type": "stream",
     "text": [
      "classic classic\n",
      "[ 75  63   0   0   0   0   0   0  63   0   0 138   6]\n",
      "Initial: 9960.750025749207 End: 10498.410282611847 Ratio: 1.0539778887606608\n",
      "Expected: (2.040182173449133, 0.792347337353508)\n",
      " Actual: (0.07034926397516081, 0.23859165812152114)\n",
      "\n",
      "\n",
      "classic shrunk\n",
      "[261   0   0  76  20  16   0   0   4   0   0 304 162]\n",
      "Initial: 9862.900929450989 End: 7771.759907245636 Ratio: 0.7879791110989336\n",
      "Expected: (1.4763627090237723, 0.8691919371735215)\n",
      " Actual: (-0.38902782563336885, 0.3893937295124211)\n",
      "\n",
      "\n",
      "log classic\n",
      "[ 0 71  0  0  0  0  0  0 79  0  0 80  0]\n",
      "Initial: 9891.720043182373 End: 10620.990352630615 Ratio: 1.0737253284832777\n",
      "Expected: (2.0462138617949717, 0.8155114531792791)\n",
      " Actual: (0.11493817797234027, 0.23578938929413176)\n",
      "\n",
      "\n",
      "log shrunk\n",
      "[159   7   0   0   0   0   0   0  15   0   0 442 175]\n",
      "Initial: 9970.930009841919 End: 9848.899936437607 Ratio: 0.9877614151053251\n",
      "Expected: (1.7812019245058386, 0.9247587553109827)\n",
      " Actual: (-0.16995646982460344, 0.42997047266581173)\n",
      "\n",
      "\n"
     ]
    }
   ],
   "source": [
    "for (returns, cov) in test_data:\n",
    "    print(returns[0], cov[0])\n",
    "\n",
    "    weights = max_sharpe(returns[1], cov[1]).x\n",
    "    result_portfolio = build_portfolio(INITIAL_FUND, weights)\n",
    "    \n",
    "    print(result_portfolio)\n",
    "    test_portfolio(result_portfolio, weights)\n",
    "    print('\\n')"
   ]
  },
  {
   "cell_type": "markdown",
   "metadata": {
    "collapsed": false
   },
   "source": [
    "### The portfolio shows a positive return, but the actual performance in the testing period is lower than the expected performance based on historical data by a lot, that is one of the issue of mean variance models. It makes simple assumptions and its errors inflate over time. Also, logarithmiic return applies better in our case and shrunk covariance lower the model performance."
   ]
  },
  {
   "cell_type": "markdown",
   "metadata": {},
   "source": [
    "### 2 - Risk parity models"
   ]
  },
  {
   "cell_type": "code",
   "execution_count": 866,
   "metadata": {
    "ExecuteTime": {
     "end_time": "2023-12-01T14:22:56.420064217Z",
     "start_time": "2023-12-01T14:22:56.180228811Z"
    }
   },
   "outputs": [],
   "source": [
    "from sklearn.cluster import AgglomerativeClustering"
   ]
  },
  {
   "cell_type": "code",
   "execution_count": 867,
   "metadata": {
    "ExecuteTime": {
     "end_time": "2023-12-01T14:22:56.420371280Z",
     "start_time": "2023-12-01T14:22:56.374795241Z"
    }
   },
   "outputs": [],
   "source": [
    "model = AgglomerativeClustering(distance_threshold=0, n_clusters=None)\n",
    "model = model.fit(portfolio.to_numpy().T)"
   ]
  },
  {
   "cell_type": "code",
   "execution_count": 868,
   "metadata": {
    "ExecuteTime": {
     "end_time": "2023-12-01T14:22:56.420541866Z",
     "start_time": "2023-12-01T14:22:56.419875039Z"
    }
   },
   "outputs": [],
   "source": [
    "from scipy.cluster.hierarchy import dendrogram"
   ]
  },
  {
   "cell_type": "code",
   "execution_count": 869,
   "metadata": {
    "ExecuteTime": {
     "end_time": "2023-12-01T14:22:56.422556637Z",
     "start_time": "2023-12-01T14:22:56.420017733Z"
    }
   },
   "outputs": [],
   "source": [
    "def plot_dendrogram(model, **kwargs):\n",
    "    # Create linkage matrix and then plot the dendrogram\n",
    "\n",
    "    # create the counts of samples under each node\n",
    "    counts = np.zeros(model.children_.shape[0])\n",
    "    n_samples = len(model.labels_)\n",
    "    for i, merge in enumerate(model.children_):\n",
    "        current_count = 0\n",
    "        for child_idx in merge:\n",
    "            if child_idx < n_samples:\n",
    "                current_count += 1  # leaf node\n",
    "            else:\n",
    "                current_count += counts[child_idx - n_samples]\n",
    "        counts[i] = current_count\n",
    "\n",
    "    linkage_matrix = np.column_stack(\n",
    "        [model.children_, np.log(model.distances_), counts]\n",
    "    ).astype(float)\n",
    "\n",
    "    # Plot the corresponding dendrogram\n",
    "    plt.figure(figsize=(12, 6))\n",
    "    dendrogram(linkage_matrix, **kwargs)"
   ]
  },
  {
   "cell_type": "code",
   "execution_count": 870,
   "metadata": {
    "ExecuteTime": {
     "end_time": "2023-12-01T14:22:56.666248144Z",
     "start_time": "2023-12-01T14:22:56.420250051Z"
    }
   },
   "outputs": [
    {
     "data": {
      "image/png": "[encoded data removed]",
      "text/plain": [
       "<Figure size 1200x600 with 1 Axes>"
      ]
     },
     "metadata": {},
     "output_type": "display_data"
    }
   ],
   "source": [
    "plot_dendrogram(model)"
   ]
  },
  {
   "cell_type": "code",
   "execution_count": 871,
   "metadata": {
    "ExecuteTime": {
     "end_time": "2023-12-01T14:22:56.666738071Z",
     "start_time": "2023-12-01T14:22:56.611654246Z"
    }
   },
   "outputs": [],
   "source": [
    "def hierarchical_risk_parity(portfolio):\n",
    "    portfolio_arr = portfolio.to_numpy().T\n",
    "\n",
    "    model = AgglomerativeClustering(distance_threshold=0, n_clusters=None)\n",
    "    model = model.fit(portfolio_arr)\n",
    "    samples_count = len(portfolio.columns)\n",
    "\n",
    "    subsets = {}\n",
    "    weights = {}\n",
    "    \n",
    "    bisections = model.children_.tolist()\n",
    "    clusters_count = len(bisections) + samples_count - 1\n",
    "\n",
    "    def get_subset(index):\n",
    "        if index < samples_count:\n",
    "            return [index]\n",
    "        else:\n",
    "            return subsets[index]\n",
    "\n",
    "    for i in range(len(bisections)):\n",
    "        bisection = bisections[i]\n",
    "        new_index = samples_count + i\n",
    "\n",
    "        subsets[new_index] = get_subset(bisection[0]) + get_subset(bisection[1])\n",
    "\n",
    "    bisections.reverse()\n",
    "    weights[clusters_count] = 1 \n",
    "\n",
    "    for i in range(len(bisections)):\n",
    "        bisection = bisections[i]\n",
    "        weight = weights[clusters_count - i]\n",
    "\n",
    "        v1 = np.var(portfolio_arr[get_subset(bisection[0])])\n",
    "        v2 = np.var(portfolio_arr[get_subset(bisection[1])])\n",
    "\n",
    "        a1 = 1 - v1 / (v1 + v2)\n",
    "        a2 = 1 - a1\n",
    "\n",
    "        weights[bisection[0]] = a1 * weight\n",
    "        weights[bisection[1]] = a2 * weight\n",
    "    \n",
    "    return np.array(list(map(lambda n: weights[n], range(0, samples_count))))"
   ]
  },
  {
   "cell_type": "code",
   "execution_count": 872,
   "metadata": {},
   "outputs": [
    {
     "name": "stdout",
     "output_type": "stream",
     "text": [
      "classic classic\n",
      "[102   0   3  23  34  22   0  18   2   0 451 121  26]\n",
      "Initial: 9437.27267742157 End: 8983.2201025486 Ratio: 0.9518873099895397\n",
      "Expected: (0.5723377333822539, 0.43875303153492234)\n",
      " Actual: (-0.054742285546697134, 0.16465892624969133)\n",
      "\n",
      "\n",
      "classic shrunk\n",
      "[102   0   3  23  34  22   0  18   2   0 451 121  26]\n",
      "Initial: 9437.27267742157 End: 8983.2201025486 Ratio: 0.9518873099895397\n",
      "Expected: (0.5723377333822539, 0.43875303153492234)\n",
      " Actual: (-0.054742285546697134, 0.16465892624969133)\n",
      "\n",
      "\n",
      "log classic\n",
      "[102   0   3  23  34  22   0  18   2   0 451 121  26]\n",
      "Initial: 9437.27267742157 End: 8983.2201025486 Ratio: 0.9518873099895397\n",
      "Expected: (0.5723377333822539, 0.43875303153492234)\n",
      " Actual: (-0.054742285546697134, 0.16465892624969133)\n",
      "\n",
      "\n",
      "log shrunk\n",
      "[102   0   3  23  34  22   0  18   2   0 451 121  26]\n",
      "Initial: 9437.27267742157 End: 8983.2201025486 Ratio: 0.9518873099895397\n",
      "Expected: (0.5723377333822539, 0.43875303153492234)\n",
      " Actual: (-0.054742285546697134, 0.16465892624969133)\n",
      "\n",
      "\n"
     ]
    }
   ],
   "source": [
    "for (returns, cov) in test_data:\n",
    "    print(returns[0], cov[0])\n",
    "\n",
    "    weights = hierarchical_risk_parity(portfolio)\n",
    "    result_portfolio = build_portfolio(INITIAL_FUND, weights)\n",
    "    \n",
    "    print(result_portfolio)\n",
    "    test_portfolio(result_portfolio, weights)\n",
    "    print('\\n')"
   ]
  },
  {
   "cell_type": "markdown",
   "metadata": {
    "collapsed": false
   },
   "source": [
    "#### Based on Risk-Parity portfolio optimization technique, which is used to distribute weights across portfolio values to minimize the overall risk we got decrease in portfolio value, having 0.57% expected returns, but actually got -0.05. HRP approach performed worse for us, but its expectations were more realistic. We also can see that it does not depend on the metrics that other models use showing the same result for each input."
   ]
  },
  {
   "cell_type": "markdown",
   "metadata": {},
   "source": [
    "### 3 - Monte-Carlo modelling"
   ]
  },
  {
   "cell_type": "code",
   "execution_count": 873,
   "metadata": {
    "ExecuteTime": {
     "end_time": "2023-12-01T14:22:56.667918065Z",
     "start_time": "2023-12-01T14:22:56.612181816Z"
    }
   },
   "outputs": [],
   "source": [
    "def max_sharpe_monte_carlo(mean_returns, cov_matrix, iterations, risk_free = 0):\n",
    "    num_assets = len(mean_returns)\n",
    "    \n",
    "    best_weights = None\n",
    "    best_sharpe = 0\n",
    "\n",
    "    for _ in range(iterations):\n",
    "        weights = np.array(np.random.random(num_assets))\n",
    "        # Rebalance Weights\n",
    "        weights = weights / np.sum(weights)\n",
    "    \n",
    "        sharpe_index = sharpe(weights, mean_returns, cov_matrix, risk_free)\n",
    "        if best_weights is None or best_sharpe < sharpe_index:\n",
    "            best_weights = weights\n",
    "\n",
    "    return best_weights"
   ]
  },
  {
   "cell_type": "code",
   "execution_count": 874,
   "metadata": {},
   "outputs": [
    {
     "name": "stdout",
     "output_type": "stream",
     "text": [
      "classic classic\n",
      "[ 84  12   2  74  50  56   5  37   9   1 100  76  35]\n",
      "Initial: 9786.248368263245 End: 9100.39002251625 Ratio: 0.9299161108590673\n",
      "Expected: (0.802172393517624, 0.5192462112261845)\n",
      " Actual: (-0.0937372158740913, 0.17154666306636765)\n",
      "\n",
      "\n",
      "classic shrunk\n",
      "[50 21 11 21 30 46 17 21  8  1 88 28 49]\n",
      "Initial: 9466.079060554504 End: 9046.200095653534 Ratio: 0.9556438349801428\n",
      "Expected: (0.9477749325975381, 0.5844078858650802)\n",
      " Actual: (-0.0689570170388577, 0.15155101087014797)\n",
      "\n",
      "\n",
      "log classic\n",
      "[ 78  23   1 130  43  42  15   9  12   0  87  97   0]\n",
      "Initial: 9387.471283912659 End: 8847.530049800873 Ratio: 0.9424827818075902\n",
      "Expected: (0.9872525334783682, 0.6117797645556882)\n",
      " Actual: (-0.02768894143007297, 0.19467314921232362)\n",
      "\n",
      "\n",
      "log shrunk\n",
      "[ 83  21   1  62   9  55  15  19   0   2 164  47  54]\n",
      "Initial: 9405.591439247131 End: 8876.300094604492 Ratio: 0.9437258838998639\n",
      "Expected: (0.9197380356261439, 0.5956708297879324)\n",
      " Actual: (-0.09547079910038204, 0.16552783649336764)\n",
      "\n",
      "\n"
     ]
    }
   ],
   "source": [
    "for (returns, cov) in test_data:\n",
    "    print(returns[0], cov[0])\n",
    "\n",
    "    weights = max_sharpe_monte_carlo(returns[1], cov[1], 5000)\n",
    "    result_portfolio = build_portfolio(INITIAL_FUND, weights)\n",
    "    \n",
    "    print(result_portfolio)\n",
    "    test_portfolio(result_portfolio, weights)\n",
    "    print('\\n')"
   ]
  },
  {
   "cell_type": "markdown",
   "metadata": {
    "collapsed": false
   },
   "source": [
    "#### With Monte-Carlo approach, weights chosen are based on the simulation, aiming for the highest Sharpe ratio. Initially, random weights are chosen, then they are updated based on sharpe across iterations. Similar to the previous analyses, the portfolio value decreased, and the actual returns were negative during the testing period. The Monte Carlo optimization results in a portfolio with performance similar to the HRP model, indicating that both approaches may face challenges in the similar testing conditions. We also can see that there are no strict dependencies between arguments and results as it was in mean variance model."
   ]
  }
 ],
 "metadata": {
  "kernelspec": {
   "display_name": "imta",
   "language": "python",
   "name": "python3"
  },
  "language_info": {
   "codemirror_mode": {
    "name": "ipython",
    "version": 3
   },
   "file_extension": ".py",
   "mimetype": "text/x-python",
   "name": "python",
   "nbconvert_exporter": "python",
   "pygments_lexer": "ipython3",
   "version": "3.10.13"
  }
 },
 "nbformat": 4,
 "nbformat_minor": 2
}
