{
 "cells": [
  {
   "cell_type": "code",
   "execution_count": 443,
   "metadata": {},
   "outputs": [],
   "source": [
    "import numpy as np\n",
    "import pandas as pd\n",
    "import matplotlib.pyplot as plt\n",
    "\n",
    "from setup import get_task_data\n",
    "import yfinance as yf\n",
    "\n",
    "from scipy.optimize import minimize\n",
    "\n",
    "import random\n",
    "SEED_VALUE = 42\n",
    "\n",
    "random.seed(SEED_VALUE)\n",
    "np.random.seed(SEED_VALUE)"
   ]
  },
  {
   "cell_type": "code",
   "execution_count": 444,
   "metadata": {},
   "outputs": [
    {
     "name": "stdout",
     "output_type": "stream",
     "text": [
      "[*********************100%%**********************]  20 of 20 completed\n"
     ]
    }
   ],
   "source": [
    "financial_data = {}\n",
    "\n",
    "# Stocks have different IPO date (first trade) so only last ~3 years of data used\n",
    "HISTORY_SIZE = 1000\n",
    "TARGET_STOCKS_COUNT = 20\n",
    "INITIAL_FUND = 10000\n",
    "\n",
    "stocks_df = pd.read_csv(get_task_data(\"StocksList.csv\"))\n",
    "\n",
    "stocks_list = stocks_df['Symbol'].astype(str).to_list()\n",
    "stocks_list = list(map(lambda s: s.replace('^', '-'), stocks_list))\n",
    "random.shuffle(stocks_list)\n",
    "\n",
    "stocks_list = stocks_list[:TARGET_STOCKS_COUNT]\n",
    "\n",
    "tickers = stocks_list\n",
    "tickers_df = yf.download(tickers, period='5y')"
   ]
  },
  {
   "cell_type": "code",
   "execution_count": 445,
   "metadata": {},
   "outputs": [],
   "source": [
    "tickers_df = tickers_df.iloc[-HISTORY_SIZE:]"
   ]
  },
  {
   "cell_type": "code",
   "execution_count": 446,
   "metadata": {},
   "outputs": [],
   "source": [
    "columns = ['Open', 'High', 'Low', 'Close', 'Adj Close', 'Volume']\n",
    "\n",
    "def extract_history(tickers_df, stock):\n",
    "    multiindex = pd.MultiIndex.from_product([columns, [stock]])\n",
    "    stock_df = tickers_df[multiindex]\n",
    "\n",
    "    stock_df.columns = stock_df.columns.to_flat_index()\n",
    "    stock_df = stock_df.set_axis(columns, axis=1)\n",
    "    stock_df = stock_df.dropna()\n",
    "    return stock_df"
   ]
  },
  {
   "cell_type": "code",
   "execution_count": 447,
   "metadata": {},
   "outputs": [
    {
     "name": "stdout",
     "output_type": "stream",
     "text": [
      "Too short history: 1\n",
      "Too short history: 738\n"
     ]
    },
    {
     "name": "stdout",
     "output_type": "stream",
     "text": [
      "Too short history: 865\n",
      "Too short history: 512\n",
      "Too short history: 672\n",
      "Too short history: 870\n",
      "Too short history: 870\n"
     ]
    }
   ],
   "source": [
    "for stock in stocks_list:    \n",
    "    history = extract_history(tickers_df, stock)\n",
    "    \n",
    "    if len(history) < HISTORY_SIZE:\n",
    "        print(f\"Too short history: {len(history)}\")\n",
    "        continue\n",
    "    \n",
    "    financial_data[stock] = history.reset_index()[['Date', 'Close']].rename(columns={\"Close\": stock})"
   ]
  },
  {
   "cell_type": "code",
   "execution_count": 448,
   "metadata": {},
   "outputs": [
    {
     "data": {
      "text/plain": [
       "13"
      ]
     },
     "execution_count": 448,
     "metadata": {},
     "output_type": "execute_result"
    }
   ],
   "source": [
    "len(financial_data)"
   ]
  },
  {
   "cell_type": "code",
   "execution_count": 449,
   "metadata": {},
   "outputs": [],
   "source": [
    "TRAIN_HISTORY = 800\n",
    "TEST_HISTORY = 200"
   ]
  },
  {
   "cell_type": "markdown",
   "metadata": {},
   "source": [
    "### 1 - Mean variance models, Efficient frontier "
   ]
  },
  {
   "cell_type": "code",
   "execution_count": 450,
   "metadata": {},
   "outputs": [],
   "source": [
    "def mean_historical_return(stock_prices):\n",
    "    return stock_prices.pct_change().mean()\n",
    "\n",
    "def covariance(stock_prices):\n",
    "    return stock_prices.pct_change().cov()\n",
    "\n",
    "def portfolio_performance(weights, mean_returns, cov_matrix, duration):\n",
    "    returns = np.sum(mean_returns * weights) * duration\n",
    "    std = np.sqrt(np.dot(weights.T, np.dot(cov_matrix, weights)) * duration)\n",
    "    return returns, std"
   ]
  },
  {
   "cell_type": "code",
   "execution_count": 451,
   "metadata": {},
   "outputs": [],
   "source": [
    "def combine_stocks(stocks):\n",
    "    df_merged = stocks[0][1]\n",
    "\n",
    "    for (name, stock) in stocks[1:]:\n",
    "        df_merged = pd.merge(df_merged,stock,on=['Date'], how='outer', suffixes=('', f'_{name}'))\n",
    "\n",
    "    df_merged = df_merged.set_index('Date')\n",
    "    return df_merged"
   ]
  },
  {
   "cell_type": "code",
   "execution_count": 452,
   "metadata": {},
   "outputs": [
    {
     "data": {
      "text/plain": [
       "Index(['BPT', 'DAC', 'COP', 'STOK', 'COFS', 'VYX', 'HXL', 'CHT', 'FTNT',\n",
       "       'LRCX', 'EVM', 'METC', 'DZSI'],\n",
       "      dtype='object')"
      ]
     },
     "execution_count": 452,
     "metadata": {},
     "output_type": "execute_result"
    }
   ],
   "source": [
    "portfolio = combine_stocks(list(financial_data.items()))\n",
    "portfolio.columns"
   ]
  },
  {
   "cell_type": "code",
   "execution_count": 453,
   "metadata": {},
   "outputs": [],
   "source": [
    "mean_returns = mean_historical_return(portfolio[:TRAIN_HISTORY])\n",
    "cov_matrix = covariance(portfolio[:TRAIN_HISTORY])"
   ]
  },
  {
   "cell_type": "code",
   "execution_count": 454,
   "metadata": {},
   "outputs": [],
   "source": [
    "def sharpe(weights, mean_returns, cov_matrix, risk_free = 0):\n",
    "    returns, std = portfolio_performance(weights, mean_returns, cov_matrix, TRAIN_HISTORY)\n",
    "    return (returns - risk_free) / std\n",
    "\n",
    "def neg_sharpe(weights, mean_returns, cov_matrix, risk_free = 0):\n",
    "    return -sharpe(weights, mean_returns, cov_matrix, risk_free)\n",
    "\n",
    "def max_sharpe(mean_returns, cov_matrix, risk_free = 0, constraint_set=(0,1)):\n",
    "    num_assets = len(mean_returns)\n",
    "    \n",
    "    args = (mean_returns, cov_matrix, risk_free)\n",
    "    constraints = ({'type': 'eq', 'fun': lambda x: np.sum(x) - 1})\n",
    "    \n",
    "    bound = constraint_set\n",
    "    bounds = tuple(bound for _ in range(num_assets))\n",
    "    \n",
    "    result = minimize(neg_sharpe, num_assets*[1./num_assets], args=args,\n",
    "                        method='SLSQP', bounds=bounds, constraints=constraints)\n",
    "    return result"
   ]
  },
  {
   "cell_type": "code",
   "execution_count": 455,
   "metadata": {},
   "outputs": [],
   "source": [
    "def portfolio_variance(weights, mean_returns, cov_matrix):\n",
    "    return portfolio_performance(weights, mean_returns, cov_matrix, TRAIN_HISTORY)[1]\n",
    "\n",
    "def minimize_variance(mean_returns, cov_matrix, constraint_set=(0,1)):\n",
    "    num_assets = len(mean_returns)\n",
    "    \n",
    "    args = (mean_returns, cov_matrix)\n",
    "    constraints = ({'type': 'eq', 'fun': lambda x: np.sum(x) - 1})\n",
    "    \n",
    "    bound = constraint_set\n",
    "    bounds = tuple(bound for _ in range(num_assets))\n",
    "    \n",
    "    result = minimize(portfolio_variance, num_assets*[1./num_assets], args=args,\n",
    "                        method='SLSQP', bounds=bounds, constraints=constraints)\n",
    "    return result"
   ]
  },
  {
   "cell_type": "code",
   "execution_count": 456,
   "metadata": {},
   "outputs": [],
   "source": [
    "def portfolio_return(weights, mean_returns, cov_matrix):\n",
    "    return portfolio_performance(weights, mean_returns, cov_matrix, TRAIN_HISTORY)[0]\n",
    "\n",
    "def efficient_portfolio(mean_returns, cov_matrix, return_target, constraint_set=(0,1)):\n",
    "    num_assets = len(mean_returns)\n",
    "    \n",
    "    args = (mean_returns, cov_matrix)\n",
    "    constraints = ({'type':'eq', 'fun': lambda x: portfolio_return(x, mean_returns, cov_matrix) - return_target},\n",
    "                    {'type': 'eq', 'fun': lambda x: np.sum(x) - 1})\n",
    "    \n",
    "    bound = constraint_set\n",
    "    bounds = tuple(bound for _ in range(num_assets))\n",
    "    \n",
    "    eff = minimize(portfolio_variance, num_assets*[1./num_assets], args=args, method = 'SLSQP', bounds=bounds, constraints=constraints)\n",
    "    return eff"
   ]
  },
  {
   "cell_type": "code",
   "execution_count": 457,
   "metadata": {},
   "outputs": [],
   "source": [
    "def efficient_frontier(mean_returns, cov_matrix, risk_free=0, constraint_set=(0,1)):\n",
    "    max_sharpe_portfolio = max_sharpe(mean_returns, cov_matrix, risk_free, constraint_set).x\n",
    "    ms_returns = portfolio_performance(max_sharpe_portfolio, mean_returns, cov_matrix, TRAIN_HISTORY)\n",
    "\n",
    "    minimize_variance_portfolio = minimize_variance(mean_returns, cov_matrix, constraint_set).x\n",
    "    mv_returns = portfolio_performance(minimize_variance_portfolio, mean_returns, cov_matrix)\n",
    "\n",
    "    efficient_list = []\n",
    "    target_returns = np.linspace(mv_returns, ms_returns, 20)\n",
    "    for target in target_returns:\n",
    "        efficient_list.append(efficient_portfolio(mean_returns, cov_matrix, target, constraint_set)['fun'])\n",
    "    \n",
    "    return efficient_list"
   ]
  },
  {
   "cell_type": "code",
   "execution_count": 458,
   "metadata": {},
   "outputs": [],
   "source": [
    "def build_portfolio(initial_fund, weights):\n",
    "    prices = portfolio.iloc[TRAIN_HISTORY].to_numpy()\n",
    "    return ((initial_fund * weights) / prices).astype('int32')"
   ]
  },
  {
   "cell_type": "code",
   "execution_count": 459,
   "metadata": {},
   "outputs": [],
   "source": [
    "mean_var_weights = max_sharpe(mean_returns, cov_matrix).x"
   ]
  },
  {
   "cell_type": "code",
   "execution_count": 460,
   "metadata": {},
   "outputs": [],
   "source": [
    "mean_var_portfolio = build_portfolio(INITIAL_FUND, mean_var_weights)"
   ]
  },
  {
   "cell_type": "code",
   "execution_count": 461,
   "metadata": {},
   "outputs": [
    {
     "data": {
      "text/plain": [
       "array([ 78,  70,   0,   0,   0,   0,   0,   0,  58,   0,   0, 140,   2])"
      ]
     },
     "execution_count": 461,
     "metadata": {},
     "output_type": "execute_result"
    }
   ],
   "source": [
    "mean_var_portfolio"
   ]
  },
  {
   "cell_type": "code",
   "execution_count": 462,
   "metadata": {},
   "outputs": [],
   "source": [
    "def test_portfolio(stocks, weights):\n",
    "    old_prices = portfolio.iloc[TRAIN_HISTORY].to_numpy()\n",
    "    portfolio_initial_value = np.sum(stocks * old_prices)\n",
    "\n",
    "    prices = portfolio.iloc[-1].to_numpy()\n",
    "    portfolio_end_value = np.sum(stocks * prices)\n",
    "\n",
    "    # ratio\n",
    "    print(f'Initial: {portfolio_initial_value} End: {portfolio_end_value} Ratio: {portfolio_end_value / portfolio_initial_value}')\n",
    "\n",
    "    # expected performance\n",
    "    expected = portfolio_performance(weights, mean_returns, cov_matrix, TRAIN_HISTORY)\n",
    "\n",
    "    mean_var_mean_returns = mean_historical_return(portfolio[TRAIN_HISTORY:])\n",
    "    mean_var_cov_matrix = covariance(portfolio[TRAIN_HISTORY:])\n",
    "    # actual performance\n",
    "    actual = portfolio_performance(weights, mean_var_mean_returns, mean_var_cov_matrix, TEST_HISTORY)\n",
    "\n",
    "    print(f'Expected: {expected}\\n Actual: {actual}')"
   ]
  },
  {
   "cell_type": "code",
   "execution_count": 463,
   "metadata": {},
   "outputs": [
    {
     "name": "stdout",
     "output_type": "stream",
     "text": [
      "Initial: 9885.599866867065 End: 10630.919990301132 Ratio: 1.0753945267329814\n",
      "Expected: (2.2256021388191582, 0.8230921670266397)\n",
      " Actual: (0.09309361511147785, 0.2339624890657987)\n"
     ]
    }
   ],
   "source": [
    "test_portfolio(mean_var_portfolio, mean_var_weights)"
   ]
  },
  {
   "cell_type": "markdown",
   "metadata": {},
   "source": [
    "### 2 - Risk parity models"
   ]
  },
  {
   "cell_type": "code",
   "execution_count": 464,
   "metadata": {},
   "outputs": [],
   "source": [
    "from sklearn.cluster import AgglomerativeClustering"
   ]
  },
  {
   "cell_type": "code",
   "execution_count": 465,
   "metadata": {},
   "outputs": [],
   "source": [
    "model = AgglomerativeClustering(distance_threshold=0, n_clusters=None)\n",
    "model = model.fit(portfolio.to_numpy().T)"
   ]
  },
  {
   "cell_type": "code",
   "execution_count": 466,
   "metadata": {},
   "outputs": [],
   "source": [
    "from scipy.cluster.hierarchy import dendrogram"
   ]
  },
  {
   "cell_type": "code",
   "execution_count": 467,
   "metadata": {},
   "outputs": [],
   "source": [
    "def plot_dendrogram(model, **kwargs):\n",
    "    # Create linkage matrix and then plot the dendrogram\n",
    "\n",
    "    # create the counts of samples under each node\n",
    "    counts = np.zeros(model.children_.shape[0])\n",
    "    n_samples = len(model.labels_)\n",
    "    for i, merge in enumerate(model.children_):\n",
    "        current_count = 0\n",
    "        for child_idx in merge:\n",
    "            if child_idx < n_samples:\n",
    "                current_count += 1  # leaf node\n",
    "            else:\n",
    "                current_count += counts[child_idx - n_samples]\n",
    "        counts[i] = current_count\n",
    "\n",
    "    linkage_matrix = np.column_stack(\n",
    "        [model.children_, np.log(model.distances_), counts]\n",
    "    ).astype(float)\n",
    "\n",
    "    # Plot the corresponding dendrogram\n",
    "    plt.figure(figsize=(12, 6))\n",
    "    dendrogram(linkage_matrix, **kwargs)"
   ]
  },
  {
   "cell_type": "code",
   "execution_count": 468,
   "metadata": {},
   "outputs": [
    {
     "data": {
      "image/png": "[encoded data removed]",
      "text/plain": [
       "<Figure size 1200x600 with 1 Axes>"
      ]
     },
     "metadata": {},
     "output_type": "display_data"
    }
   ],
   "source": [
    "plot_dendrogram(model)"
   ]
  },
  {
   "cell_type": "code",
   "execution_count": 469,
   "metadata": {},
   "outputs": [],
   "source": [
    "def hierarchical_risk_parity(portfolio):\n",
    "    portfolio_arr = portfolio.to_numpy().T\n",
    "\n",
    "    model = AgglomerativeClustering(distance_threshold=0, n_clusters=None)\n",
    "    model = model.fit(portfolio_arr)\n",
    "    samples_count = len(portfolio.columns)\n",
    "\n",
    "    subsets = {}\n",
    "    weights = {}\n",
    "    \n",
    "    bisections = model.children_.tolist()\n",
    "    clusters_count = len(bisections) + samples_count - 1\n",
    "\n",
    "    def get_subset(index):\n",
    "        if index < samples_count:\n",
    "            return [index]\n",
    "        else:\n",
    "            return subsets[index]\n",
    "\n",
    "    for i in range(len(bisections)):\n",
    "        bisection = bisections[i]\n",
    "        new_index = samples_count + i\n",
    "\n",
    "        subsets[new_index] = get_subset(bisection[0]) + get_subset(bisection[1])\n",
    "\n",
    "    bisections.reverse()\n",
    "    weights[clusters_count] = 1 \n",
    "\n",
    "    for i in range(len(bisections)):\n",
    "        bisection = bisections[i]\n",
    "        weight = weights[clusters_count - i]\n",
    "\n",
    "        v1 = np.var(portfolio_arr[get_subset(bisection[0])])\n",
    "        v2 = np.var(portfolio_arr[get_subset(bisection[1])])\n",
    "\n",
    "        a1 = 1 - v1 / (v1 + v2)\n",
    "        a2 = 1 - a1\n",
    "\n",
    "        weights[bisection[0]] = a1 * weight\n",
    "        weights[bisection[1]] = a2 * weight\n",
    "    \n",
    "    return np.array(list(map(lambda n: weights[n], range(0, samples_count))))"
   ]
  },
  {
   "cell_type": "code",
   "execution_count": 470,
   "metadata": {},
   "outputs": [
    {
     "data": {
      "text/plain": [
       "array([0.11090085, 0.00555647, 0.05171114, 0.00110261, 0.00499833,\n",
       "       0.00195515, 0.09120121, 0.10812654, 0.01620547, 0.03871485,\n",
       "       0.40526325, 0.13186632, 0.0323978 ])"
      ]
     },
     "execution_count": 470,
     "metadata": {},
     "output_type": "execute_result"
    }
   ],
   "source": [
    "hrp_weights = hierarchical_risk_parity(portfolio)\n",
    "hrp_weights"
   ]
  },
  {
   "cell_type": "code",
   "execution_count": 471,
   "metadata": {},
   "outputs": [
    {
     "data": {
      "text/plain": [
       "array([100,   0,   4,   1,   1,   1,  13,  29,   2,   0, 440, 132,  25])"
      ]
     },
     "execution_count": 471,
     "metadata": {},
     "output_type": "execute_result"
    }
   ],
   "source": [
    "hrp_portfolio = build_portfolio(INITIAL_FUND, hrp_weights)\n",
    "hrp_portfolio"
   ]
  },
  {
   "cell_type": "code",
   "execution_count": 472,
   "metadata": {},
   "outputs": [
    {
     "name": "stdout",
     "output_type": "stream",
     "text": [
      "Initial: 9379.755707740784 End: 9072.590132117271 Ratio: 0.9672522840472253\n",
      "Expected: (0.6203273710190899, 0.45945402843441063)\n",
      " Actual: (-0.05407064683822425, 0.15648927625502226)\n"
     ]
    }
   ],
   "source": [
    "test_portfolio(hrp_portfolio, hrp_weights)"
   ]
  },
  {
   "cell_type": "markdown",
   "metadata": {},
   "source": [
    "### 3 - Monte-Carlo modelling"
   ]
  },
  {
   "cell_type": "code",
   "execution_count": 473,
   "metadata": {},
   "outputs": [],
   "source": [
    "def max_sharpe_monte_carlo(mean_returns, cov_matrix, iterations, risk_free = 0):\n",
    "    num_assets = len(mean_returns)\n",
    "    \n",
    "    best_weights = None\n",
    "    best_sharpe = 0\n",
    "\n",
    "    for _ in range(iterations):\n",
    "        weights = np.array(np.random.random(num_assets))\n",
    "        # Rebalance Weights\n",
    "        weights = weights / np.sum(weights)\n",
    "    \n",
    "        sharpe_index = sharpe(weights, mean_returns, cov_matrix, risk_free)\n",
    "        if best_weights is None or best_sharpe < sharpe_index:\n",
    "            best_weights = weights\n",
    "\n",
    "    return best_weights"
   ]
  },
  {
   "cell_type": "code",
   "execution_count": 474,
   "metadata": {},
   "outputs": [
    {
     "data": {
      "text/plain": [
       "array([0.092237  , 0.0710247 , 0.02406312, 0.06710341, 0.14300006,\n",
       "       0.09353621, 0.04139599, 0.13833305, 0.05675332, 0.05697821,\n",
       "       0.0900559 , 0.08310004, 0.04241899])"
      ]
     },
     "execution_count": 474,
     "metadata": {},
     "output_type": "execute_result"
    }
   ],
   "source": [
    "monte_carlo_weights = max_sharpe_monte_carlo(mean_returns, cov_matrix, 5000)\n",
    "monte_carlo_weights"
   ]
  },
  {
   "cell_type": "code",
   "execution_count": 475,
   "metadata": {},
   "outputs": [
    {
     "data": {
      "text/plain": [
       "array([83, 11,  2, 72, 51, 57,  5, 37,  9,  1, 97, 83, 32])"
      ]
     },
     "execution_count": 475,
     "metadata": {},
     "output_type": "execute_result"
    }
   ],
   "source": [
    "monte_carlo_portfolio = build_portfolio(INITIAL_FUND, monte_carlo_weights)\n",
    "monte_carlo_portfolio"
   ]
  },
  {
   "cell_type": "code",
   "execution_count": 476,
   "metadata": {},
   "outputs": [
    {
     "name": "stdout",
     "output_type": "stream",
     "text": [
      "Initial: 9720.872159957886 End: 9024.740044593811 Ratio: 0.9283878952516653\n",
      "Expected: (0.8368919165488476, 0.5195880232168469)\n",
      " Actual: (-0.1037708221896241, 0.17123424778805815)\n"
     ]
    }
   ],
   "source": [
    "test_portfolio(monte_carlo_portfolio, monte_carlo_weights)"
   ]
  }
 ],
 "metadata": {
  "kernelspec": {
   "display_name": "imta",
   "language": "python",
   "name": "python3"
  },
  "language_info": {
   "codemirror_mode": {
    "name": "ipython",
    "version": 3
   },
   "file_extension": ".py",
   "mimetype": "text/x-python",
   "name": "python",
   "nbconvert_exporter": "python",
   "pygments_lexer": "ipython3",
   "version": "3.10.13"
  }
 },
 "nbformat": 4,
 "nbformat_minor": 2
}
