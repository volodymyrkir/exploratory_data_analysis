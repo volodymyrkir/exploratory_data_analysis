{
 "cells": [
  {
   "cell_type": "code",
   "execution_count": 1,
   "metadata": {},
   "outputs": [],
   "source": [
    "import pandas as pd\n",
    "import numpy as np\n",
    "import seaborn as sns\n",
    "import mplfinance as mpf\n",
    "from matplotlib import pyplot as plt\n",
    "\n",
    "import tensorflow as tf\n",
    "from tensorflow.keras.callbacks import EarlyStopping\n",
    "from sklearn.model_selection import train_test_split\n",
    "from sklearn.preprocessing import OneHotEncoder\n",
    "\n",
    "import datetime\n",
    "\n",
    "import random\n",
    "\n",
    "seed_value = 42\n",
    "\n",
    "random.seed(seed_value)\n",
    "np.random.seed(seed_value)\n",
    "tf.random.set_seed(seed_value)\n",
    "\n",
    "from setup import get_task_data\n",
    "from consts import TASK_2_DATA"
   ]
  },
  {
   "cell_type": "code",
   "execution_count": 2,
   "metadata": {},
   "outputs": [],
   "source": [
    "financial_data = {}\n",
    "metadata = {}\n",
    "\n",
    "for filepath, sector in TASK_2_DATA.items():\n",
    "    stock = filepath.split('.')[0]\n",
    "\n",
    "    financial_data[stock] = pd.read_csv(get_task_data(filepath))\n",
    "    metadata[stock] = sector "
   ]
  },
  {
   "cell_type": "markdown",
   "metadata": {},
   "source": [
    "Our financial data is supplied with metadata: name of a stock and financial sector it belongs too\n",
    "\n",
    "Sectors:\n",
    "* Technology - category of stocks relating to the research, development, or distribution of technologically based goods and services\n",
    "* BasicMaterials - category made up of businesses engaged in the discovery, development, and processing of raw materials \n",
    "* Communications - category made up of services such as social media companies, Internet search firms, video game makers, telecom providers, and streaming media make up most of this sector\n",
    "* Cyclical - category of stocks that rely heavily on the business cycle and economic conditions. Consumer cyclicals include industries such as automotive, housing, entertainment, and retail\n",
    "* ConsumerDefensive - category of companies that manufacture food, beverages, household and personal products, packaging, or tobacco. Also includes companies that provide services such as education and training services\n",
    "* Energy - category of companies that play a role in extracting, refining, or producing sources of energy\n",
    "* Financial - category of firms and institutions that provide financial services to commercial and retail customers\n",
    "* Healthcare - category of businesses that provide medical services, manufacture medical equipment or drugs, provide medical insurance, or otherwise facilitate the provision of healthcare to patients\n",
    "* Industrial - category of businesses that aid other businesses in manufacturing, shipping or producing their products\n",
    "* RealEstate - category of the following: Industrial, Office, Mixed-Industrial/Office, Retail-Shopping Centers, Retail-Regional Malls, Retail-Free Standing, Residential-Apartments, Residential-Manufactured Homes, Diversified, Lodging/Resorts, Health Care, Self Storage, Specialty, Home Financing and Commercial Financing\n",
    "* Utilities - category of companies that provide their customers with electricity, water, and other public utilities"
   ]
  },
  {
   "cell_type": "code",
   "execution_count": 3,
   "metadata": {},
   "outputs": [
    {
     "data": {
      "text/html": [
       "<div>\n",
       "<style scoped>\n",
       "    .dataframe tbody tr th:only-of-type {\n",
       "        vertical-align: middle;\n",
       "    }\n",
       "\n",
       "    .dataframe tbody tr th {\n",
       "        vertical-align: top;\n",
       "    }\n",
       "\n",
       "    .dataframe thead th {\n",
       "        text-align: right;\n",
       "    }\n",
       "</style>\n",
       "<table border=\"1\" class=\"dataframe\">\n",
       "  <thead>\n",
       "    <tr style=\"text-align: right;\">\n",
       "      <th></th>\n",
       "      <th>Stock</th>\n",
       "      <th>Sector</th>\n",
       "    </tr>\n",
       "  </thead>\n",
       "  <tbody>\n",
       "    <tr>\n",
       "      <th>22</th>\n",
       "      <td>BIDU</td>\n",
       "      <td>Communications</td>\n",
       "    </tr>\n",
       "    <tr>\n",
       "      <th>0</th>\n",
       "      <td>AMD</td>\n",
       "      <td>Technology</td>\n",
       "    </tr>\n",
       "    <tr>\n",
       "      <th>49</th>\n",
       "      <td>AZN</td>\n",
       "      <td>Healthcare</td>\n",
       "    </tr>\n",
       "    <tr>\n",
       "      <th>4</th>\n",
       "      <td>TSM</td>\n",
       "      <td>Technology</td>\n",
       "    </tr>\n",
       "    <tr>\n",
       "      <th>54</th>\n",
       "      <td>HON</td>\n",
       "      <td>Industrial</td>\n",
       "    </tr>\n",
       "    <tr>\n",
       "      <th>18</th>\n",
       "      <td>NFLX</td>\n",
       "      <td>Communications</td>\n",
       "    </tr>\n",
       "    <tr>\n",
       "      <th>10</th>\n",
       "      <td>SHW</td>\n",
       "      <td>BasicMaterials</td>\n",
       "    </tr>\n",
       "    <tr>\n",
       "      <th>33</th>\n",
       "      <td>PM</td>\n",
       "      <td>ConsumerDefensive</td>\n",
       "    </tr>\n",
       "    <tr>\n",
       "      <th>45</th>\n",
       "      <td>BX</td>\n",
       "      <td>Financial</td>\n",
       "    </tr>\n",
       "    <tr>\n",
       "      <th>12</th>\n",
       "      <td>SCCO</td>\n",
       "      <td>BasicMaterials</td>\n",
       "    </tr>\n",
       "    <tr>\n",
       "      <th>31</th>\n",
       "      <td>PG</td>\n",
       "      <td>ConsumerDefensive</td>\n",
       "    </tr>\n",
       "    <tr>\n",
       "      <th>9</th>\n",
       "      <td>BHP</td>\n",
       "      <td>BasicMaterials</td>\n",
       "    </tr>\n",
       "    <tr>\n",
       "      <th>67</th>\n",
       "      <td>DUK</td>\n",
       "      <td>Utilities</td>\n",
       "    </tr>\n",
       "    <tr>\n",
       "      <th>5</th>\n",
       "      <td>ORCL</td>\n",
       "      <td>Technology</td>\n",
       "    </tr>\n",
       "    <tr>\n",
       "      <th>62</th>\n",
       "      <td>WELL</td>\n",
       "      <td>RealEstate</td>\n",
       "    </tr>\n",
       "  </tbody>\n",
       "</table>\n",
       "</div>"
      ],
      "text/plain": [
       "   Stock             Sector\n",
       "22  BIDU     Communications\n",
       "0    AMD         Technology\n",
       "49   AZN         Healthcare\n",
       "4    TSM         Technology\n",
       "54   HON         Industrial\n",
       "18  NFLX     Communications\n",
       "10   SHW     BasicMaterials\n",
       "33    PM  ConsumerDefensive\n",
       "45    BX          Financial\n",
       "12  SCCO     BasicMaterials\n",
       "31    PG  ConsumerDefensive\n",
       "9    BHP     BasicMaterials\n",
       "67   DUK          Utilities\n",
       "5   ORCL         Technology\n",
       "62  WELL         RealEstate"
      ]
     },
     "execution_count": 3,
     "metadata": {},
     "output_type": "execute_result"
    }
   ],
   "source": [
    "df = pd.DataFrame(data=metadata.items(), columns=['Stock', 'Sector'])\n",
    "df.sample(15)"
   ]
  },
  {
   "cell_type": "markdown",
   "metadata": {},
   "source": [
    "1. Classification\n",
    "\n",
    "Model that predicts the sector company belongs to given the sequence of trades\n",
    "\n",
    "RNN classification"
   ]
  },
  {
   "cell_type": "code",
   "execution_count": 4,
   "metadata": {},
   "outputs": [],
   "source": [
    "classification_data = {}\n",
    "\n",
    "# Stocks have different IPO date (first trade) so only last ~3 years of data used\n",
    "tail_length = 1024\n",
    "\n",
    "for stock, data in financial_data.items():\n",
    "    classification_data[stock] = data['Close'].tail(tail_length).to_numpy()"
   ]
  },
  {
   "cell_type": "code",
   "execution_count": 5,
   "metadata": {},
   "outputs": [
    {
     "name": "stdout",
     "output_type": "stream",
     "text": [
      "['Technology' 'BasicMaterials' 'Communications' 'Cyclical'\n",
      " 'ConsumerDefensive' 'Energy' 'Financial' 'Healthcare' 'Industrial'\n",
      " 'RealEstate' 'Utilities']\n",
      "11\n"
     ]
    }
   ],
   "source": [
    "classes = df['Sector'].unique()\n",
    "classes_count = len(classes)\n",
    "\n",
    "print(classes)\n",
    "print(classes_count)"
   ]
  },
  {
   "cell_type": "code",
   "execution_count": 6,
   "metadata": {},
   "outputs": [],
   "source": [
    "classification_df = pd.DataFrame(data=classification_data.items(), columns=['Stock', 'CloseValues'])\n",
    "classification_df = classification_df.merge(df, on='Stock', how='left')"
   ]
  },
  {
   "cell_type": "code",
   "execution_count": 7,
   "metadata": {},
   "outputs": [],
   "source": [
    "enc = OneHotEncoder(handle_unknown='ignore')\n",
    "sectors = classification_df['Sector'].to_numpy().reshape(-1, 1)\n",
    "enc.fit(sectors)\n",
    "\n",
    "classification_df['Sector'] = enc.transform(sectors).toarray().tolist()"
   ]
  },
  {
   "cell_type": "code",
   "execution_count": 8,
   "metadata": {},
   "outputs": [
    {
     "data": {
      "text/html": [
       "<div>\n",
       "<style scoped>\n",
       "    .dataframe tbody tr th:only-of-type {\n",
       "        vertical-align: middle;\n",
       "    }\n",
       "\n",
       "    .dataframe tbody tr th {\n",
       "        vertical-align: top;\n",
       "    }\n",
       "\n",
       "    .dataframe thead th {\n",
       "        text-align: right;\n",
       "    }\n",
       "</style>\n",
       "<table border=\"1\" class=\"dataframe\">\n",
       "  <thead>\n",
       "    <tr style=\"text-align: right;\">\n",
       "      <th></th>\n",
       "      <th>Stock</th>\n",
       "      <th>CloseValues</th>\n",
       "      <th>Sector</th>\n",
       "    </tr>\n",
       "  </thead>\n",
       "  <tbody>\n",
       "    <tr>\n",
       "      <th>17</th>\n",
       "      <td>TMUS</td>\n",
       "      <td>[79.959999, 79.360001, 79.809998, 79.0, 77.559...</td>\n",
       "      <td>[0.0, 1.0, 0.0, 0.0, 0.0, 0.0, 0.0, 0.0, 0.0, ...</td>\n",
       "    </tr>\n",
       "  </tbody>\n",
       "</table>\n",
       "</div>"
      ],
      "text/plain": [
       "   Stock                                        CloseValues  \\\n",
       "17  TMUS  [79.959999, 79.360001, 79.809998, 79.0, 77.559...   \n",
       "\n",
       "                                               Sector  \n",
       "17  [0.0, 1.0, 0.0, 0.0, 0.0, 0.0, 0.0, 0.0, 0.0, ...  "
      ]
     },
     "execution_count": 8,
     "metadata": {},
     "output_type": "execute_result"
    }
   ],
   "source": [
    "classification_df.sample(1)"
   ]
  },
  {
   "cell_type": "markdown",
   "metadata": {},
   "source": [
    "Values of close prices represented as a sequence and sector as one-hot vector"
   ]
  },
  {
   "cell_type": "code",
   "execution_count": 9,
   "metadata": {},
   "outputs": [],
   "source": [
    "classification_train_df, classification_test_df = train_test_split(classification_df, test_size=0.2)"
   ]
  },
  {
   "cell_type": "code",
   "execution_count": 10,
   "metadata": {},
   "outputs": [],
   "source": [
    "classification_model = tf.keras.Sequential([\n",
    "    tf.keras.layers.Bidirectional(tf.keras.layers.LSTM(1024, input_shape=(None, 1024), return_sequences=True)),\n",
    "    tf.keras.layers.Bidirectional(tf.keras.layers.LSTM(512)),\n",
    "    tf.keras.layers.Dense(512, activation='relu'),\n",
    "    tf.keras.layers.Dense(256, activation='relu'),\n",
    "    tf.keras.layers.Dense(classes_count, activation='softmax', name='output')\n",
    "])"
   ]
  },
  {
   "cell_type": "code",
   "execution_count": 11,
   "metadata": {},
   "outputs": [],
   "source": [
    "classification_model.compile(loss=tf.keras.losses.CategoricalCrossentropy(from_logits=True),\n",
    "              optimizer=tf.keras.optimizers.Adam(1e-4),\n",
    "              metrics=['accuracy'])"
   ]
  },
  {
   "cell_type": "code",
   "execution_count": 12,
   "metadata": {},
   "outputs": [],
   "source": [
    "x_train = np.array(classification_train_df['CloseValues'].tolist()).reshape(56, 1, 1024)\n",
    "y_train = np.array(classification_train_df['Sector'].tolist()).reshape(56, 11)\n",
    "\n",
    "x_test = np.array(classification_test_df['CloseValues'].tolist()).reshape(14, 1, 1024)\n",
    "y_test = np.array(classification_test_df['Sector'].tolist()).reshape(14, 11)"
   ]
  },
  {
   "cell_type": "code",
   "execution_count": 13,
   "metadata": {},
   "outputs": [
    {
     "name": "stdout",
     "output_type": "stream",
     "text": [
      "Epoch 1/100\n"
     ]
    },
    {
     "name": "stderr",
     "output_type": "stream",
     "text": [
      "d:\\conda\\envs\\imta\\lib\\site-packages\\keras\\src\\backend.py:5577: UserWarning: \"`categorical_crossentropy` received `from_logits=True`, but the `output` argument was produced by a Softmax activation and thus does not represent logits. Was this intended?\n",
      "  output, from_logits = _get_logits(\n"
     ]
    },
    {
     "name": "stdout",
     "output_type": "stream",
     "text": [
      "2/2 [==============================] - 12s 2s/step - loss: 2.3955 - accuracy: 0.0893 - val_loss: 2.4027 - val_accuracy: 0.1429\n",
      "Epoch 2/100\n",
      "2/2 [==============================] - 1s 294ms/step - loss: 2.3306 - accuracy: 0.2321 - val_loss: 2.4124 - val_accuracy: 0.0714\n",
      "Epoch 3/100\n",
      "2/2 [==============================] - 1s 314ms/step - loss: 2.2925 - accuracy: 0.2857 - val_loss: 2.4131 - val_accuracy: 0.0714\n",
      "Epoch 4/100\n",
      "2/2 [==============================] - 1s 309ms/step - loss: 2.2645 - accuracy: 0.2857 - val_loss: 2.4065 - val_accuracy: 0.0714\n",
      "Epoch 5/100\n",
      "2/2 [==============================] - 1s 304ms/step - loss: 2.2236 - accuracy: 0.2679 - val_loss: 2.4100 - val_accuracy: 0.0714\n",
      "Epoch 6/100\n",
      "2/2 [==============================] - 1s 314ms/step - loss: 2.1786 - accuracy: 0.3571 - val_loss: 2.4339 - val_accuracy: 0.0714\n",
      "Epoch 7/100\n",
      "2/2 [==============================] - 1s 304ms/step - loss: 2.1397 - accuracy: 0.3393 - val_loss: 2.4391 - val_accuracy: 0.0714\n",
      "Epoch 8/100\n",
      "2/2 [==============================] - 1s 310ms/step - loss: 2.1093 - accuracy: 0.3393 - val_loss: 2.4410 - val_accuracy: 0.1429\n",
      "Epoch 9/100\n",
      "2/2 [==============================] - 1s 310ms/step - loss: 2.0693 - accuracy: 0.3571 - val_loss: 2.4266 - val_accuracy: 0.1429\n",
      "Epoch 10/100\n",
      "2/2 [==============================] - 1s 308ms/step - loss: 2.0223 - accuracy: 0.3571 - val_loss: 2.4152 - val_accuracy: 0.2143\n",
      "Epoch 11/100\n",
      "2/2 [==============================] - 1s 307ms/step - loss: 1.9740 - accuracy: 0.3929 - val_loss: 2.4289 - val_accuracy: 0.0714\n",
      "Epoch 12/100\n",
      "2/2 [==============================] - 1s 311ms/step - loss: 1.9201 - accuracy: 0.4643 - val_loss: 2.4098 - val_accuracy: 0.1429\n",
      "Epoch 13/100\n",
      "2/2 [==============================] - 1s 325ms/step - loss: 1.8928 - accuracy: 0.4643 - val_loss: 2.4095 - val_accuracy: 0.2143\n",
      "Epoch 14/100\n",
      "2/2 [==============================] - 1s 311ms/step - loss: 1.8465 - accuracy: 0.5000 - val_loss: 2.4184 - val_accuracy: 0.2143\n",
      "Epoch 15/100\n",
      "2/2 [==============================] - 1s 310ms/step - loss: 1.7970 - accuracy: 0.5179 - val_loss: 2.4011 - val_accuracy: 0.2143\n",
      "Epoch 16/100\n",
      "2/2 [==============================] - 1s 330ms/step - loss: 1.7438 - accuracy: 0.5000 - val_loss: 2.4183 - val_accuracy: 0.2143\n",
      "Epoch 17/100\n",
      "2/2 [==============================] - 1s 311ms/step - loss: 1.6943 - accuracy: 0.4643 - val_loss: 2.4005 - val_accuracy: 0.2143\n",
      "Epoch 18/100\n",
      "2/2 [==============================] - 1s 311ms/step - loss: 1.6578 - accuracy: 0.5179 - val_loss: 2.4014 - val_accuracy: 0.2143\n",
      "Epoch 19/100\n",
      "2/2 [==============================] - 1s 312ms/step - loss: 1.6185 - accuracy: 0.5536 - val_loss: 2.4118 - val_accuracy: 0.2143\n",
      "Epoch 20/100\n",
      "2/2 [==============================] - 1s 306ms/step - loss: 1.5762 - accuracy: 0.5357 - val_loss: 2.4559 - val_accuracy: 0.2143\n",
      "Epoch 21/100\n",
      "2/2 [==============================] - 1s 317ms/step - loss: 1.5306 - accuracy: 0.5357 - val_loss: 2.4277 - val_accuracy: 0.2857\n",
      "Epoch 22/100\n",
      "2/2 [==============================] - 1s 312ms/step - loss: 1.4891 - accuracy: 0.5536 - val_loss: 2.4389 - val_accuracy: 0.2143\n",
      "Epoch 23/100\n",
      "2/2 [==============================] - 1s 301ms/step - loss: 1.4643 - accuracy: 0.5714 - val_loss: 2.4399 - val_accuracy: 0.2857\n",
      "Epoch 24/100\n",
      "2/2 [==============================] - 1s 309ms/step - loss: 1.4134 - accuracy: 0.6071 - val_loss: 2.3541 - val_accuracy: 0.2857\n",
      "Epoch 25/100\n",
      "2/2 [==============================] - 1s 307ms/step - loss: 1.3825 - accuracy: 0.5714 - val_loss: 2.4039 - val_accuracy: 0.2857\n",
      "Epoch 26/100\n",
      "2/2 [==============================] - 1s 315ms/step - loss: 1.3841 - accuracy: 0.6250 - val_loss: 2.4624 - val_accuracy: 0.3571\n",
      "Epoch 27/100\n",
      "2/2 [==============================] - 1s 306ms/step - loss: 1.3330 - accuracy: 0.6786 - val_loss: 2.4640 - val_accuracy: 0.2857\n",
      "Epoch 28/100\n",
      "2/2 [==============================] - 1s 307ms/step - loss: 1.2799 - accuracy: 0.6786 - val_loss: 2.4350 - val_accuracy: 0.2857\n",
      "Epoch 29/100\n",
      "2/2 [==============================] - 1s 311ms/step - loss: 1.2725 - accuracy: 0.6250 - val_loss: 2.4686 - val_accuracy: 0.2857\n",
      "Epoch 30/100\n",
      "2/2 [==============================] - 1s 308ms/step - loss: 1.2239 - accuracy: 0.6964 - val_loss: 2.4979 - val_accuracy: 0.2143\n",
      "Epoch 31/100\n",
      "2/2 [==============================] - 1s 305ms/step - loss: 1.2097 - accuracy: 0.7321 - val_loss: 2.4641 - val_accuracy: 0.2857\n",
      "Epoch 32/100\n",
      "2/2 [==============================] - 1s 307ms/step - loss: 1.1897 - accuracy: 0.6964 - val_loss: 2.4314 - val_accuracy: 0.2857\n",
      "Epoch 33/100\n",
      "2/2 [==============================] - 1s 308ms/step - loss: 1.1478 - accuracy: 0.7143 - val_loss: 2.4442 - val_accuracy: 0.3571\n",
      "Epoch 34/100\n",
      "2/2 [==============================] - 1s 309ms/step - loss: 1.1672 - accuracy: 0.6071 - val_loss: 2.5673 - val_accuracy: 0.3571\n",
      "Epoch 35/100\n",
      "2/2 [==============================] - 1s 310ms/step - loss: 1.1340 - accuracy: 0.6786 - val_loss: 2.6405 - val_accuracy: 0.3571\n",
      "Epoch 36/100\n",
      "2/2 [==============================] - 1s 334ms/step - loss: 1.1458 - accuracy: 0.6786 - val_loss: 2.5795 - val_accuracy: 0.3571\n",
      "Epoch 37/100\n",
      "2/2 [==============================] - 1s 308ms/step - loss: 1.1395 - accuracy: 0.6429 - val_loss: 2.6281 - val_accuracy: 0.2857\n",
      "Epoch 38/100\n",
      "2/2 [==============================] - 1s 356ms/step - loss: 1.1161 - accuracy: 0.6607 - val_loss: 2.5699 - val_accuracy: 0.3571\n",
      "Epoch 39/100\n",
      "2/2 [==============================] - 1s 313ms/step - loss: 1.1056 - accuracy: 0.6429 - val_loss: 2.5200 - val_accuracy: 0.2857\n",
      "Epoch 40/100\n",
      "2/2 [==============================] - 1s 306ms/step - loss: 1.0733 - accuracy: 0.7321 - val_loss: 2.4965 - val_accuracy: 0.2857\n",
      "Epoch 41/100\n",
      "2/2 [==============================] - 1s 309ms/step - loss: 1.1077 - accuracy: 0.6607 - val_loss: 2.5781 - val_accuracy: 0.3571\n",
      "Epoch 42/100\n",
      "2/2 [==============================] - 1s 308ms/step - loss: 1.0579 - accuracy: 0.6964 - val_loss: 2.5223 - val_accuracy: 0.3571\n",
      "Epoch 43/100\n",
      "2/2 [==============================] - 1s 306ms/step - loss: 1.0366 - accuracy: 0.7143 - val_loss: 2.5132 - val_accuracy: 0.3571\n",
      "Epoch 44/100\n",
      "2/2 [==============================] - 1s 309ms/step - loss: 1.0700 - accuracy: 0.6964 - val_loss: 2.4495 - val_accuracy: 0.2857\n",
      "Epoch 45/100\n",
      "2/2 [==============================] - 1s 302ms/step - loss: 1.0474 - accuracy: 0.7143 - val_loss: 2.3735 - val_accuracy: 0.3571\n",
      "Epoch 46/100\n",
      "2/2 [==============================] - 1s 311ms/step - loss: 1.0514 - accuracy: 0.6607 - val_loss: 2.5376 - val_accuracy: 0.2857\n",
      "Epoch 47/100\n",
      "2/2 [==============================] - 1s 308ms/step - loss: 1.0634 - accuracy: 0.6607 - val_loss: 2.5663 - val_accuracy: 0.3571\n",
      "Epoch 48/100\n",
      "2/2 [==============================] - 1s 309ms/step - loss: 1.0079 - accuracy: 0.7143 - val_loss: 2.4339 - val_accuracy: 0.3571\n",
      "Epoch 49/100\n",
      "2/2 [==============================] - 1s 327ms/step - loss: 0.9894 - accuracy: 0.6964 - val_loss: 2.4266 - val_accuracy: 0.3571\n",
      "Epoch 50/100\n",
      "2/2 [==============================] - 1s 325ms/step - loss: 1.0030 - accuracy: 0.7143 - val_loss: 2.4805 - val_accuracy: 0.3571\n",
      "Epoch 51/100\n",
      "2/2 [==============================] - 1s 309ms/step - loss: 0.9749 - accuracy: 0.7679 - val_loss: 2.6154 - val_accuracy: 0.2857\n",
      "Epoch 52/100\n",
      "2/2 [==============================] - 1s 308ms/step - loss: 1.0225 - accuracy: 0.6786 - val_loss: 2.6934 - val_accuracy: 0.3571\n",
      "Epoch 53/100\n",
      "2/2 [==============================] - 1s 311ms/step - loss: 1.0024 - accuracy: 0.7143 - val_loss: 2.6274 - val_accuracy: 0.3571\n",
      "Epoch 54/100\n",
      "2/2 [==============================] - 1s 308ms/step - loss: 1.0102 - accuracy: 0.6429 - val_loss: 2.6140 - val_accuracy: 0.3571\n",
      "Epoch 55/100\n",
      "2/2 [==============================] - 1s 315ms/step - loss: 1.0122 - accuracy: 0.6786 - val_loss: 2.5439 - val_accuracy: 0.3571\n",
      "Epoch 56/100\n",
      "2/2 [==============================] - 1s 309ms/step - loss: 1.0197 - accuracy: 0.6786 - val_loss: 2.5200 - val_accuracy: 0.2857\n",
      "Epoch 57/100\n",
      "2/2 [==============================] - 1s 307ms/step - loss: 0.9647 - accuracy: 0.7500 - val_loss: 2.5506 - val_accuracy: 0.2857\n",
      "Epoch 58/100\n",
      "2/2 [==============================] - 1s 309ms/step - loss: 0.9793 - accuracy: 0.7321 - val_loss: 2.7771 - val_accuracy: 0.3571\n",
      "Epoch 59/100\n",
      "2/2 [==============================] - 1s 308ms/step - loss: 0.9626 - accuracy: 0.7143 - val_loss: 2.6487 - val_accuracy: 0.3571\n",
      "Epoch 60/100\n",
      "2/2 [==============================] - 1s 309ms/step - loss: 0.9594 - accuracy: 0.7321 - val_loss: 2.6599 - val_accuracy: 0.2857\n",
      "Epoch 61/100\n",
      "2/2 [==============================] - 1s 311ms/step - loss: 0.9564 - accuracy: 0.7500 - val_loss: 2.7243 - val_accuracy: 0.2857\n",
      "Epoch 62/100\n",
      "2/2 [==============================] - 1s 313ms/step - loss: 0.9413 - accuracy: 0.7500 - val_loss: 2.7886 - val_accuracy: 0.2857\n",
      "Epoch 63/100\n",
      "2/2 [==============================] - 1s 321ms/step - loss: 0.9114 - accuracy: 0.7321 - val_loss: 2.5553 - val_accuracy: 0.3571\n",
      "Epoch 64/100\n",
      "2/2 [==============================] - 1s 312ms/step - loss: 0.8800 - accuracy: 0.7321 - val_loss: 2.5705 - val_accuracy: 0.3571\n",
      "Epoch 65/100\n",
      "2/2 [==============================] - 1s 310ms/step - loss: 0.9088 - accuracy: 0.7500 - val_loss: 2.5908 - val_accuracy: 0.3571\n",
      "Epoch 66/100\n",
      "2/2 [==============================] - 1s 311ms/step - loss: 0.9340 - accuracy: 0.7143 - val_loss: 2.4986 - val_accuracy: 0.3571\n",
      "Epoch 67/100\n",
      "2/2 [==============================] - 1s 311ms/step - loss: 0.9149 - accuracy: 0.7679 - val_loss: 2.4774 - val_accuracy: 0.2857\n",
      "Epoch 68/100\n",
      "2/2 [==============================] - 1s 314ms/step - loss: 0.9161 - accuracy: 0.7500 - val_loss: 2.5151 - val_accuracy: 0.3571\n",
      "Epoch 69/100\n",
      "2/2 [==============================] - 1s 309ms/step - loss: 0.9380 - accuracy: 0.7679 - val_loss: 2.6409 - val_accuracy: 0.2857\n",
      "Epoch 70/100\n",
      "2/2 [==============================] - 1s 310ms/step - loss: 0.9576 - accuracy: 0.6964 - val_loss: 2.6797 - val_accuracy: 0.3571\n",
      "Epoch 71/100\n",
      "2/2 [==============================] - 1s 309ms/step - loss: 0.9908 - accuracy: 0.6964 - val_loss: 2.6905 - val_accuracy: 0.2857\n",
      "Epoch 72/100\n",
      "2/2 [==============================] - 1s 311ms/step - loss: 0.9357 - accuracy: 0.8214 - val_loss: 2.6950 - val_accuracy: 0.3571\n",
      "Epoch 73/100\n",
      "2/2 [==============================] - 1s 309ms/step - loss: 0.9110 - accuracy: 0.7321 - val_loss: 2.7443 - val_accuracy: 0.3571\n",
      "Epoch 74/100\n",
      "2/2 [==============================] - 1s 307ms/step - loss: 0.9399 - accuracy: 0.6964 - val_loss: 2.7487 - val_accuracy: 0.3571\n",
      "Epoch 75/100\n",
      "2/2 [==============================] - 1s 311ms/step - loss: 0.9660 - accuracy: 0.7679 - val_loss: 2.6502 - val_accuracy: 0.3571\n",
      "Epoch 76/100\n",
      "2/2 [==============================] - 1s 312ms/step - loss: 0.9204 - accuracy: 0.7500 - val_loss: 2.4088 - val_accuracy: 0.2857\n",
      "Epoch 77/100\n",
      "2/2 [==============================] - 1s 308ms/step - loss: 0.9379 - accuracy: 0.7321 - val_loss: 2.4400 - val_accuracy: 0.3571\n",
      "Epoch 78/100\n",
      "2/2 [==============================] - 1s 316ms/step - loss: 0.9071 - accuracy: 0.7857 - val_loss: 2.6435 - val_accuracy: 0.3571\n",
      "Epoch 79/100\n",
      "2/2 [==============================] - 1s 307ms/step - loss: 0.9127 - accuracy: 0.7321 - val_loss: 2.4898 - val_accuracy: 0.3571\n"
     ]
    }
   ],
   "source": [
    "early_stopping = EarlyStopping(patience = 15, monitor='loss')\n",
    "classification_history = classification_model.fit(x=x_train, y=y_train, validation_data=(x_test, y_test), epochs=100, callbacks=[early_stopping])"
   ]
  },
  {
   "cell_type": "code",
   "execution_count": 14,
   "metadata": {},
   "outputs": [
    {
     "name": "stdout",
     "output_type": "stream",
     "text": [
      "1/1 [==============================] - 0s 38ms/step - loss: 2.4898 - accuracy: 0.3571\n",
      "Test Loss: 2.4898288249969482\n",
      "Test Accuracy: 0.3571428656578064\n"
     ]
    }
   ],
   "source": [
    "test_loss, test_acc = classification_model.evaluate(x=x_test, y=y_test)\n",
    "\n",
    "print('Test Loss:', test_loss)\n",
    "print('Test Accuracy:', test_acc)"
   ]
  },
  {
   "cell_type": "code",
   "execution_count": 15,
   "metadata": {},
   "outputs": [],
   "source": [
    "def plot_history(history):\n",
    "    fig, ax = plt.subplots(1, 2)\n",
    "    fig.tight_layout(pad=5.0)\n",
    "\n",
    "    ax[0].plot(history.history['accuracy'], label='accuracy')\n",
    "    ax[0].plot(history.history['val_accuracy'], label='val_accuracy')\n",
    "    ax[0].set_xlabel('Epoch')\n",
    "    ax[0].set_ylabel('Accuracy')\n",
    "    ax[0].set_ylim([0, 1])\n",
    "\n",
    "    ax[1].plot(history.history['loss'], label='accuracy')\n",
    "    ax[1].plot(history.history['val_loss'], label='val_accuracy')\n",
    "    ax[1].set_xlabel('Epoch')\n",
    "    ax[1].set_ylabel('Loss')\n",
    "    ax[1].set_ylim([0, 3])\n",
    "\n",
    "    plt.show()"
   ]
  },
  {
   "cell_type": "code",
   "execution_count": 16,
   "metadata": {},
   "outputs": [
    {
     "data": {
      "image/png": "[encoded data removed]",
      "text/plain": [
       "<Figure size 640x480 with 2 Axes>"
      ]
     },
     "metadata": {},
     "output_type": "display_data"
    }
   ],
   "source": [
    "plot_history(classification_history)"
   ]
  },
  {
   "cell_type": "markdown",
   "metadata": {},
   "source": [
    "2. Clusterization\n",
    "\n",
    "Model that divides data into clusters, that expected to be close to it's sectors\n",
    "\n",
    "Probably the best approach is to pack the vector of close values into matrix and clusterize them. "
   ]
  },
  {
   "cell_type": "code",
   "execution_count": null,
   "metadata": {},
   "outputs": [],
   "source": []
  },
  {
   "cell_type": "markdown",
   "metadata": {},
   "source": [
    "3. Regression\n",
    "\n",
    "Model that predicts next close price of a stock given the sequence of previous trades\n",
    "\n",
    "RNN regression"
   ]
  },
  {
   "cell_type": "code",
   "execution_count": null,
   "metadata": {},
   "outputs": [],
   "source": []
  }
 ],
 "metadata": {
  "kernelspec": {
   "display_name": "imta",
   "language": "python",
   "name": "python3"
  },
  "language_info": {
   "name": "python",
   "version": "3.10.13"
  }
 },
 "nbformat": 4,
 "nbformat_minor": 2
}
